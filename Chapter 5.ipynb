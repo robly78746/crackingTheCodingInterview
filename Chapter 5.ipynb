{
 "cells": [
  {
   "cell_type": "code",
   "execution_count": 15,
   "metadata": {
    "collapsed": false
   },
   "outputs": [],
   "source": [
    "# 5.1 Insertion: You are given two 32-bit numbers, N and M, and two bit positions, i and j. Write a method to insert M into N such \n",
    "# that M starts at bit j and ends at bit i. You can assume that the bits j through i have enough space to fit all of M. Tha is,\n",
    "# if M = 10011, you can assume that there are at least 5 bits between j and i. You would not, for example, have j=3 and i = 2,\n",
    "# because M could not fully fit between bit 3 and bit 2.\n",
    "# Example\n",
    "# Input: N = 10000000000, M = 10011, i = 2, j = 6\n",
    "# Output: N = 10001001100\n",
    "\n",
    "def insertion(N, M, i, j):\n",
    "    mask = ~0x0\n",
    "    mask = (mask << (j + 1)) + ~(mask << i)\n",
    "    result = (N & mask) + (M << i)\n",
    "    return result"
   ]
  },
  {
   "cell_type": "code",
   "execution_count": 16,
   "metadata": {
    "collapsed": false
   },
   "outputs": [
    {
     "name": "stderr",
     "output_type": "stream",
     "text": [
      ".\n",
      "----------------------------------------------------------------------\n",
      "Ran 1 test in 0.002s\n",
      "\n",
      "OK\n"
     ]
    },
    {
     "data": {
      "text/plain": [
       "<unittest.runner.TextTestResult run=1 errors=0 failures=0>"
      ]
     },
     "execution_count": 16,
     "metadata": {},
     "output_type": "execute_result"
    }
   ],
   "source": [
    "import unittest\n",
    "class TestInsertion(unittest.TestCase):\n",
    "    def setUp(self):\n",
    "        self.N = '10000000000'\n",
    "        self.N = int(self.N, 2)\n",
    "        self.M = '10011'\n",
    "        self.M = int(self.M, 2)\n",
    "        self.expected = '10001001100'\n",
    "        self.expected = int(self.expected, 2)\n",
    "    def testInsertion(self):\n",
    "        result = insertion(self.N, self.M, 2, 6)\n",
    "        self.assertEqual(result, self.expected)\n",
    "        \n",
    "testSuiteInsertion = unittest.TestLoader().loadTestsFromTestCase(TestInsertion)\n",
    "runner = unittest.TextTestRunner()\n",
    "runner.run(testSuiteInsertion)"
   ]
  },
  {
   "cell_type": "code",
   "execution_count": 32,
   "metadata": {
    "collapsed": false
   },
   "outputs": [],
   "source": [
    "# 5.2 Binary to String: Given a real number between 0 and 1 (e.g., 0.72) that is passed in as a double, print the binary representation.\n",
    "# If the number cannot be represented accurately in binary with at most 32 characters, print \"ERROR.\"\n",
    "\n",
    "# multiply by 2, take whole number part as binary digit\n",
    "# repeat with fractional part\n",
    "def binaryToString(num):\n",
    "    if num <= 0 or num >= 1:\n",
    "        return 'ERROR'\n",
    "    fractional = num\n",
    "    binary = '.'\n",
    "    while fractional != 0.0:\n",
    "        fractional *= 2\n",
    "        \n",
    "        if fractional >= 1:\n",
    "            fractional -= 1.0\n",
    "            binary += '1'\n",
    "        else:\n",
    "            binary += '0'\n",
    "        if len(binary) > 32:\n",
    "            return 'ERROR'\n",
    "    return binary"
   ]
  },
  {
   "cell_type": "code",
   "execution_count": 33,
   "metadata": {
    "collapsed": false
   },
   "outputs": [
    {
     "name": "stderr",
     "output_type": "stream",
     "text": [
      ".\n",
      "----------------------------------------------------------------------\n",
      "Ran 1 test in 0.003s\n",
      "\n",
      "OK\n"
     ]
    },
    {
     "data": {
      "text/plain": [
       "<unittest.runner.TextTestResult run=1 errors=0 failures=0>"
      ]
     },
     "execution_count": 33,
     "metadata": {},
     "output_type": "execute_result"
    }
   ],
   "source": [
    "import unittest\n",
    "class TestBinaryToString(unittest.TestCase):\n",
    "    def setUp(self):\n",
    "        self.validNum = 0.625\n",
    "        self.invalidNum = 0.72\n",
    "    def testInsertion(self):\n",
    "        self.assertEqual(binaryToString(self.validNum), '.101')\n",
    "        self.assertEqual(binaryToString(self.invalidNum), 'ERROR')\n",
    "        \n",
    "testSuiteInsertion = unittest.TestLoader().loadTestsFromTestCase(TestInsertion)\n",
    "runner = unittest.TextTestRunner()\n",
    "runner.run(testSuiteInsertion)"
   ]
  },
  {
   "cell_type": "code",
   "execution_count": 40,
   "metadata": {
    "collapsed": false
   },
   "outputs": [
    {
     "name": "stdout",
     "output_type": "stream",
     "text": [
      "5\n"
     ]
    }
   ],
   "source": [
    "# 5.3 Flip Bit to Win: You have an integer and you can flip exactly one bit from a 0 to a 1. Write code to find the length of \n",
    "# the longest sequence of 1s you could create.\n",
    "# Example\n",
    "# Input: 1775 (or: 11011101111)\n",
    "# Output: 8\n",
    "\n",
    "# walk through bits, store length of sequence of 1's, if encounter zero of length 1, consider merging with next sequence of 1's\n",
    "\n",
    "def flipBitToWin(num):\n",
    "    bitArray = list('{0:b}'.format(num))\n",
    "    longestSequenceOfOnes = 0\n",
    "    previousSeqOneLength = 0\n",
    "    currentSeqOneLength = 0\n",
    "    previousWasZero = False\n",
    "    for bit in bitArray:\n",
    "        if bit == '1':\n",
    "            currentSeqOneLength += 1\n",
    "        elif bit == '0':\n",
    "            seqLength = previousSeqOneLength + currentSeqOneLength + 1\n",
    "            if seqLength > longestSequenceOfOnes:\n",
    "                longestSequenceOfOnes = seqLength\n",
    "            if previousWasZero:\n",
    "                previousSeqOneLength = 0\n",
    "            else:\n",
    "                previousSeqOneLength = currentSeqOneLength\n",
    "                currentSeqOneLength = 0\n",
    "    seqLength = previousSeqOneLength + currentSeqOneLength + 1\n",
    "    if seqLength > longestSequenceOfOnes:\n",
    "        longestSequenceOfOnes = seqLength\n",
    "    return longestSequenceOfOnes"
   ]
  },
  {
   "cell_type": "code",
   "execution_count": 42,
   "metadata": {
    "collapsed": false
   },
   "outputs": [
    {
     "name": "stderr",
     "output_type": "stream",
     "text": [
      ".\n",
      "----------------------------------------------------------------------\n",
      "Ran 1 test in 0.002s\n",
      "\n",
      "OK\n"
     ]
    },
    {
     "data": {
      "text/plain": [
       "<unittest.runner.TextTestResult run=1 errors=0 failures=0>"
      ]
     },
     "execution_count": 42,
     "metadata": {},
     "output_type": "execute_result"
    }
   ],
   "source": [
    "import unittest\n",
    "class TestFlipBitToWin(unittest.TestCase):\n",
    "    def setUp(self):\n",
    "        bitString = '1110011101'\n",
    "        self.num = int(bitString, 2)\n",
    "    def testInsertion(self):\n",
    "        self.assertEqual(flipBitToWin(self.num), 5)\n",
    "        \n",
    "testSuiteFlipBitToWin = unittest.TestLoader().loadTestsFromTestCase(TestFlipBitToWin)\n",
    "runner = unittest.TextTestRunner()\n",
    "runner.run(testSuiteFlipBitToWin)"
   ]
  },
  {
   "cell_type": "code",
   "execution_count": 57,
   "metadata": {
    "collapsed": false
   },
   "outputs": [],
   "source": [
    "# 5.4 Next Number: Given a positive integer, print the next smallest and the next largest number that have the same number of 1 \n",
    "# bits in their binary representation\n",
    "\n",
    "# for next largest, find size of lowest block of zeros and lowest block of ones to left of block of zeros\n",
    "# flip zero bit to the left of the block of ones, move ones to the lowest bits\n",
    "# for next smallest, find size of lowest block of ones and lowest block of zeros to left of block on ones\n",
    "# flip one bit to the left of the block of zeros, move ones to the right of the flipped bit\n",
    "\n",
    "def nextNumber(num):\n",
    "    return nextSmallestNumber(num), nextLargestNumber(num)\n",
    "def nextLargestNumber(num):\n",
    "    bitArray = list('{0:b}'.format(num))\n",
    "    # find size of lowest block of zeros\n",
    "    index = len(bitArray) - 1\n",
    "    c0 = 0\n",
    "    c1 = 0\n",
    "    while bitArray[index] == '0' and index >= 0:\n",
    "        c0 += 1\n",
    "        index -= 1\n",
    "    while bitArray[index] == '1' and index >= 0:\n",
    "        c1 += 1\n",
    "        index -= 1\n",
    "        \n",
    "    # add ((1 << c0) - 1) to fill ones\n",
    "    # add 1 to flip 0 bit and clear bits to the right\n",
    "    # add (1 << (c1 - 1) - 1)\n",
    "    num += ((1 << c0) - 1) + 1 + ((1 << (c1 - 1)) - 1)\n",
    "    return num\n",
    "def nextSmallestNumber(num):\n",
    "    bitArray = list('{0:b}'.format(num))\n",
    "    # find size of lowest block of ones\n",
    "    index = len(bitArray) - 1\n",
    "    c0 = 0\n",
    "    c1 = 0\n",
    "    while bitArray[index] == '1' and index >= 0:\n",
    "        c1 += 1\n",
    "        index -= 1\n",
    "    while bitArray[index] == '0' and index >= 0:\n",
    "        c0 += 1\n",
    "        index -= 1\n",
    "    # subtract (1 << c1) - 1 to zero out everything\n",
    "    # subtract (1 << (c1 + c0)) to flip bit\n",
    "    # add ((1 << (c1 + 1)) - 1) << (c0 - 1)\n",
    "    num = num - ((1 << c1) - 1) - (1 << (c1 + c0)) + (((1 << (c1 + 1)) - 1) << (c0 - 1))\n",
    "    return num"
   ]
  },
  {
   "cell_type": "code",
   "execution_count": 58,
   "metadata": {
    "collapsed": false
   },
   "outputs": [
    {
     "name": "stderr",
     "output_type": "stream",
     "text": [
      ".\n",
      "----------------------------------------------------------------------\n",
      "Ran 1 test in 0.003s\n",
      "\n",
      "OK\n"
     ]
    },
    {
     "data": {
      "text/plain": [
       "<unittest.runner.TextTestResult run=1 errors=0 failures=0>"
      ]
     },
     "execution_count": 58,
     "metadata": {},
     "output_type": "execute_result"
    }
   ],
   "source": [
    "import unittest\n",
    "class TestNextNumber(unittest.TestCase):\n",
    "    def setUp(self):\n",
    "        bitString = '011001100111'\n",
    "        self.num = int(bitString, 2)\n",
    "        nextSmallest = '011001011110'\n",
    "        self.expectedSmallest = int(nextSmallest, 2)\n",
    "        nextLargest = '011001101011'\n",
    "        self.expectedLargest = int(nextLargest, 2)\n",
    "    def testNextNumber(self):\n",
    "        nextSmallest, nextLargest = nextNumber(self.num)\n",
    "        self.assertEqual(nextSmallest, self.expectedSmallest)\n",
    "        self.assertEqual(nextLargest, self.expectedLargest)\n",
    "        \n",
    "testSuiteNextNumber = unittest.TestLoader().loadTestsFromTestCase(TestNextNumber)\n",
    "runner = unittest.TextTestRunner()\n",
    "runner.run(testSuiteNextNumber)"
   ]
  },
  {
   "cell_type": "code",
   "execution_count": 59,
   "metadata": {
    "collapsed": false
   },
   "outputs": [
    {
     "name": "stderr",
     "output_type": "stream",
     "text": [
      "....\n",
      "----------------------------------------------------------------------\n",
      "Ran 4 tests in 0.009s\n",
      "\n",
      "OK\n"
     ]
    },
    {
     "data": {
      "text/plain": [
       "<unittest.runner.TextTestResult run=4 errors=0 failures=0>"
      ]
     },
     "execution_count": 59,
     "metadata": {},
     "output_type": "execute_result"
    }
   ],
   "source": [
    "# source: https://stackoverflow.com/questions/1732438/how-do-i-run-all-python-unit-tests-in-a-directory\n",
    "testmodules = [\n",
    "    TestInsertion,\n",
    "    TestBinaryToString,\n",
    "    TestFlipBitToWin,\n",
    "    TestNextNumber\n",
    "    ]\n",
    "\n",
    "suite = unittest.TestSuite()\n",
    "\n",
    "for t in testmodules:\n",
    "    suite.addTest(unittest.TestLoader().loadTestsFromTestCase(t))\n",
    "\n",
    "unittest.TextTestRunner().run(suite)"
   ]
  },
  {
   "cell_type": "code",
   "execution_count": null,
   "metadata": {
    "collapsed": true
   },
   "outputs": [],
   "source": []
  }
 ],
 "metadata": {
  "kernelspec": {
   "display_name": "Python 3",
   "language": "python",
   "name": "python3"
  },
  "language_info": {
   "codemirror_mode": {
    "name": "ipython",
    "version": 3
   },
   "file_extension": ".py",
   "mimetype": "text/x-python",
   "name": "python",
   "nbconvert_exporter": "python",
   "pygments_lexer": "ipython3",
   "version": "3.6.0"
  }
 },
 "nbformat": 4,
 "nbformat_minor": 2
}

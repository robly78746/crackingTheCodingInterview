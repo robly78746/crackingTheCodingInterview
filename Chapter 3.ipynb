{
 "cells": [
  {
   "cell_type": "code",
   "execution_count": 56,
   "metadata": {
    "collapsed": false
   },
   "outputs": [],
   "source": [
    "# 3.1 Three in One: Describe how you could use a single array to implement three stacks.\n",
    "\n",
    "# could use an array of stacks\n",
    "# another way is to partition the array into three stacks, storing the bottom and top of each stack\n",
    "\n",
    "class ThreeInOne:\n",
    "    def __init__(self):\n",
    "        self.stacks = []\n",
    "        self.numStacks = 3\n",
    "        self.stackInfo = [0,0,0]\n",
    "        \n",
    "    def stackIndex(self, whichStack):\n",
    "        if whichStack >= 0 and whichStack < self.numStacks:\n",
    "            index = 0\n",
    "            for i in range(whichStack):\n",
    "                index += self.stackInfo[i] \n",
    "            return index\n",
    "        else:\n",
    "            raise ValueError('stack specified not found')\n",
    "    def topOfStack(self, whichStack):\n",
    "        return self.stackIndex(whichStack) + self.stackInfo[whichStack]\n",
    "    \n",
    "    def push(self, value, whichStack):\n",
    "        self.stacks.insert(self.topOfStack(whichStack), value)\n",
    "        self.stackInfo[whichStack] += 1\n",
    "            \n",
    "    def pop(self, whichStack):\n",
    "        index = self.topOfStack(whichStack) - 1\n",
    "        if self.stackInfo[whichStack] > 0:\n",
    "            self.stackInfo[whichStack] -= 1\n",
    "        return self.stacks.pop(index)\n",
    "    \n",
    "    def peek(self, whichStack):\n",
    "        index = self.topOfStack(whichStack) - 1\n",
    "        return self.stacks[index]\n",
    "    \n",
    "    def print(self, whichStack):\n",
    "        index = self.stackIndex(whichStack)\n",
    "        sizeOfStack = self.stackInfo[whichStack]\n",
    "        print(self.stacks[index : index + sizeOfStack])"
   ]
  },
  {
   "cell_type": "code",
   "execution_count": 57,
   "metadata": {
    "collapsed": false
   },
   "outputs": [
    {
     "name": "stderr",
     "output_type": "stream",
     "text": [
      ".\n",
      "----------------------------------------------------------------------\n",
      "Ran 1 test in 0.003s\n",
      "\n",
      "OK\n"
     ]
    },
    {
     "data": {
      "text/plain": [
       "<unittest.runner.TextTestResult run=1 errors=0 failures=0>"
      ]
     },
     "execution_count": 57,
     "metadata": {},
     "output_type": "execute_result"
    }
   ],
   "source": [
    "import unittest\n",
    "class TestThreeInOne(unittest.TestCase):\n",
    "    def setUp(self):\n",
    "        self.threeInOne = ThreeInOne()\n",
    "        self.threeInOne.push(1, 0)\n",
    "        self.threeInOne.push(2, 0)\n",
    "        self.threeInOne.push(3, 0)\n",
    "        self.threeInOne.push(4, 0)\n",
    "        self.threeInOne.push(3, 1)\n",
    "        self.threeInOne.push(4, 1)\n",
    "        self.threeInOne.push(4, 2)\n",
    "    \n",
    "    def test_threeInOne(self):\n",
    "        self.assertEqual(self.threeInOne.peek(0), 4)\n",
    "        self.assertEqual(self.threeInOne.pop(0), 4)\n",
    "        self.threeInOne.push(10, 1)\n",
    "        self.assertEqual(self.threeInOne.peek(1), 10)\n",
    "        self.assertEqual(self.threeInOne.pop(2), 4)\n",
    "testSuiteThreeInOne = unittest.TestLoader().loadTestsFromTestCase(TestThreeInOne)\n",
    "runner = unittest.TextTestRunner()\n",
    "runner.run(testSuiteThreeInOne)"
   ]
  },
  {
   "cell_type": "code",
   "execution_count": 16,
   "metadata": {
    "collapsed": false
   },
   "outputs": [],
   "source": [
    "# 3.2 Stack Min: How would you design a stack which, in addition to push and pop, has a function min which returns the minimum element? Push, pop and in should all operate in O(1) time.\n",
    "\n",
    "# have a separate stack which has mins for elements in main stack until an element smaller than it\n",
    "# modify pop to compare element with top of min\n",
    "# if same, pop off min stack\n",
    "# modify push to compare with top of min stack\n",
    "# if same or less than top of min stack, push onto min stack\n",
    "\n",
    "class MinStack:\n",
    "    def __init__(self, values=[]):\n",
    "        self.stack = []\n",
    "        self.mins = []\n",
    "        for value in values:\n",
    "            self.push(value)\n",
    "    def push(self, value):\n",
    "        self.stack.append(value)\n",
    "        if len(self.mins) > 0:\n",
    "            if value <= self.mins[-1]:\n",
    "                self.mins.append(value)\n",
    "        else:\n",
    "            self.mins.append(value)\n",
    "    def pop(self):\n",
    "        if len(self.stack) > 0:\n",
    "            value = self.stack.pop()\n",
    "            if value == self.mins[-1]:\n",
    "                self.mins.pop()\n",
    "            return value\n",
    "        else:\n",
    "            return None\n",
    "    def peek(self):\n",
    "        return self.stack[-1]\n",
    "    def print(self):\n",
    "        print(self.stack)\n",
    "    def min(self):\n",
    "        if len(self.mins) > 0:\n",
    "            return self.mins[-1]\n",
    "        else:\n",
    "            return None"
   ]
  },
  {
   "cell_type": "code",
   "execution_count": 17,
   "metadata": {
    "collapsed": false
   },
   "outputs": [
    {
     "name": "stderr",
     "output_type": "stream",
     "text": [
      ".\n",
      "----------------------------------------------------------------------\n",
      "Ran 1 test in 0.003s\n",
      "\n",
      "OK\n"
     ]
    },
    {
     "data": {
      "text/plain": [
       "<unittest.runner.TextTestResult run=1 errors=0 failures=0>"
      ]
     },
     "execution_count": 17,
     "metadata": {},
     "output_type": "execute_result"
    }
   ],
   "source": [
    "import unittest\n",
    "class TestMinStack(unittest.TestCase):\n",
    "    def setUp(self):\n",
    "        self.minStack = MinStack([3,4,8,7,2,1])\n",
    "    \n",
    "    def test_minStack(self):\n",
    "        self.assertEqual(self.minStack.min(), 1)\n",
    "        self.minStack.push(0)\n",
    "        self.assertEqual(self.minStack.min(), 0)\n",
    "        self.minStack.pop()\n",
    "        self.minStack.pop()\n",
    "        self.assertEqual(self.minStack.min(), 2)\n",
    "testSuiteMinStack = unittest.TestLoader().loadTestsFromTestCase(TestMinStack)\n",
    "runner = unittest.TextTestRunner()\n",
    "runner.run(testSuiteMinStack)"
   ]
  },
  {
   "cell_type": "code",
   "execution_count": 73,
   "metadata": {
    "collapsed": false
   },
   "outputs": [],
   "source": [
    "# 3.3 Stack of Plates: Imagine a (literal) stack of plates. If the stack gets too high, it might topple. Therefore, in real life, we would likely start a new stack when the previous stack exceeds some threshold. Implement a data structure SetOfStacks that mimics this. SetOfStacks should be composed of several stacks and should create a new stack once the previous one exceeds capacity. SetOfStacks.push() and SetOfStacks.pop() should behave identically to a single stack (that is, pop() should return the same values as it would if there were just a single stack).\n",
    "# Follow up\n",
    "# Implement a function popAt(int index) which performs a pop operation on a specific sub-stack.\n",
    "\n",
    "# an array of stacks\n",
    "\n",
    "class SetOfStacks:\n",
    "    def __init__(self, values = [], threshold=5):\n",
    "        self.threshold = threshold\n",
    "        self.arrayOfStacks = []\n",
    "        for value in values:\n",
    "            self.push(value)\n",
    "    def push(self, value):\n",
    "        if len(self.arrayOfStacks) == 0 or len(self.arrayOfStacks[-1]) >= self.threshold:\n",
    "            self.arrayOfStacks.append([])\n",
    "        self.arrayOfStacks[-1].append(value)\n",
    "    def pop(self):\n",
    "        if len(self.arrayOfStacks) > 0:\n",
    "            lastStack = self.arrayOfStacks[-1]\n",
    "            if len(lastStack) > 0:\n",
    "                popped = lastStack.pop()\n",
    "                if len(lastStack) == 0:\n",
    "                    self.arrayOfStacks.pop()\n",
    "                return popped\n",
    "        else:\n",
    "            return None\n",
    "    def peek(self):\n",
    "        if len(self.arrayOfStacks) > 0:\n",
    "            lastStack = self.arrayOfStacks[-1]\n",
    "            return lastStack[-1]\n",
    "        else:\n",
    "            return None\n",
    "    def print(self):\n",
    "        for stack in self.arrayOfStacks:\n",
    "            print(stack)"
   ]
  },
  {
   "cell_type": "code",
   "execution_count": null,
   "metadata": {
    "collapsed": false
   },
   "outputs": [],
   "source": [
    "import unittest\n",
    "class TestSetOfStacks(unittest.TestCase):\n",
    "    def setUp(self):\n",
    "        self.setOfStacks = SetOfStacks([3,4,8,7,2,1], 3)\n",
    "    \n",
    "    def test_setOfStacks(self):\n",
    "        self.assertEqual(self.setOfStacks.peek(), 1)\n",
    "        self.setOfStacks.push(10)\n",
    "        self.assertEqual(self.setOfStacks.pop(), 10)\n",
    "\n",
    "testSuiteSetOfStacks = unittest.TestLoader().loadTestsFromTestCase(TestSetOfStacks)\n",
    "runner = unittest.TextTestRunner()\n",
    "runner.run(testSuiteSetOfStacks)"
   ]
  },
  {
   "cell_type": "code",
   "execution_count": null,
   "metadata": {
    "collapsed": false
   },
   "outputs": [],
   "source": [
    "# source: https://stackoverflow.com/questions/1732438/how-do-i-run-all-python-unit-tests-in-a-directory\n",
    "testmodules = [\n",
    "    TestMinStack,\n",
    "    TestThreeInOne,\n",
    "    TestSetOfStacks\n",
    "    ]\n",
    "\n",
    "suite = unittest.TestSuite()\n",
    "\n",
    "for t in testmodules:\n",
    "    suite.addTest(unittest.TestLoader().loadTestsFromTestCase(t))\n",
    "\n",
    "unittest.TextTestRunner().run(suite)"
   ]
  },
  {
   "cell_type": "code",
   "execution_count": null,
   "metadata": {
    "collapsed": true
   },
   "outputs": [],
   "source": []
  }
 ],
 "metadata": {
  "kernelspec": {
   "display_name": "Python 3",
   "language": "python",
   "name": "python3"
  },
  "language_info": {
   "codemirror_mode": {
    "name": "ipython",
    "version": 3
   },
   "file_extension": ".py",
   "mimetype": "text/x-python",
   "name": "python",
   "nbconvert_exporter": "python",
   "pygments_lexer": "ipython3",
   "version": "3.6.0"
  }
 },
 "nbformat": 4,
 "nbformat_minor": 2
}

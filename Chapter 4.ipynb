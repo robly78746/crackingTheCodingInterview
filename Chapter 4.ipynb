{
 "cells": [
  {
   "cell_type": "code",
   "execution_count": 22,
   "metadata": {
    "collapsed": false
   },
   "outputs": [],
   "source": [
    "from collections import defaultdict\n",
    "class Graph:\n",
    "    def __init__(self, connections, directed):\n",
    "        self.graph = defaultdict(set)\n",
    "        self.directed = directed\n",
    "        self.add_connections(connections)\n",
    "        \n",
    "    def add_connections(self, connections):\n",
    "        for node1, node2 in connections:\n",
    "            self.add(node1, node2)\n",
    "                \n",
    "    def add(self, node1, node2):\n",
    "        self.graph[node1].add(node2)\n",
    "        if not self.directed:\n",
    "            self.graph[node2].add(node1)\n",
    "    def remove(self, node):\n",
    "        for source, targets in self.graph.items():\n",
    "            try:\n",
    "                targets.remove(node)\n",
    "            except KeyError:\n",
    "                pass\n",
    "        try:\n",
    "            del self.graph[node]\n",
    "        except KeyError:\n",
    "            pass"
   ]
  },
  {
   "cell_type": "code",
   "execution_count": 23,
   "metadata": {
    "collapsed": false
   },
   "outputs": [
    {
     "name": "stderr",
     "output_type": "stream",
     "text": [
      "...\n",
      "----------------------------------------------------------------------\n",
      "Ran 3 tests in 0.006s\n",
      "\n",
      "OK\n"
     ]
    },
    {
     "data": {
      "text/plain": [
       "<unittest.runner.TextTestResult run=3 errors=0 failures=0>"
      ]
     },
     "execution_count": 23,
     "metadata": {},
     "output_type": "execute_result"
    }
   ],
   "source": [
    "import unittest\n",
    "class TestGraph(unittest.TestCase):\n",
    "    def setUp(self):\n",
    "        connections = [('A', 'B'), ('B', 'C'), ('C', 'D'), ('D', 'E'), ('C','F'), ('F', 'G')]\n",
    "        self.graph = Graph(connections, directed=True)\n",
    "    \n",
    "    def test_add_connections(self):\n",
    "        newConnections = [('G', 'H'), ('G', 'A')]\n",
    "        self.graph.add_connections(newConnections)\n",
    "        gConnections = self.graph.graph['G']\n",
    "        self.assertEqual(len(gConnections), 2)\n",
    "        self.assertTrue('H' in gConnections and 'A' in gConnections)\n",
    "        \n",
    "    def test_add(self):\n",
    "        self.graph.add('G','H')\n",
    "        gConnections = self.graph.graph['G']\n",
    "        self.assertEqual(len(gConnections), 1)\n",
    "        self.assertTrue('H' in gConnections)\n",
    "        \n",
    "    def test_remove(self):\n",
    "        self.graph.remove('B')\n",
    "        aConnections = self.graph.graph['A']\n",
    "        self.assertEqual(len(aConnections), 0)\n",
    "        self.assertTrue('B' not in self.graph.graph)\n",
    "        \n",
    "testSuiteGraph = unittest.TestLoader().loadTestsFromTestCase(TestGraph)\n",
    "runner = unittest.TextTestRunner()\n",
    "runner.run(testSuiteGraph)"
   ]
  },
  {
   "cell_type": "code",
   "execution_count": null,
   "metadata": {
    "collapsed": true
   },
   "outputs": [],
   "source": [
    "def breadthFirstSearch(graph, start):\n",
    "    nodesAtLevel = [start]\n",
    "    visited = []\n",
    "    while len(nodesAtLevel) > 0:\n",
    "        nodesAtNextLevel = []\n",
    "        yield nodesAtLevel\n",
    "        for node in nodesAtLevel:\n",
    "            targets = graph.graph[node]\n",
    "            for target in targets:\n",
    "                if target not in visited:\n",
    "                    nodesAtNextLevel.append(target)\n",
    "            visited.append(node)\n",
    "        nodesAtLevel = nodesAtNextLevel\n",
    "        \n",
    "        \n",
    "def depthFirstSearch(graph, start):\n",
    "    nodesToVisit = [start]\n",
    "    visited = []\n",
    "    while len(nodesToVisit) > 0:\n",
    "        node = nodesToVisit.pop()\n",
    "        yield node\n",
    "        targets = graph.graph[node]\n",
    "        for target in targets:\n",
    "            if target not in visited:\n",
    "                nodesToVisit.append(target)\n",
    "        visited.append(node)"
   ]
  },
  {
   "cell_type": "code",
   "execution_count": 26,
   "metadata": {
    "collapsed": false
   },
   "outputs": [
    {
     "name": "stderr",
     "output_type": "stream",
     "text": [
      "..\n",
      "----------------------------------------------------------------------\n",
      "Ran 2 tests in 0.005s\n",
      "\n",
      "OK\n"
     ]
    },
    {
     "data": {
      "text/plain": [
       "<unittest.runner.TextTestResult run=2 errors=0 failures=0>"
      ]
     },
     "execution_count": 26,
     "metadata": {},
     "output_type": "execute_result"
    }
   ],
   "source": [
    "import unittest\n",
    "class TestSearch(unittest.TestCase):\n",
    "    def setUp(self):\n",
    "        connections = [('A', 'B'), ('B', 'C'), ('C', 'D'), ('D', 'E'), ('C','F'), ('F', 'G')]\n",
    "        self.graph = Graph(connections, directed=True)\n",
    "    \n",
    "    def test_breadthFirstSearch(self):\n",
    "        index = 0\n",
    "        nodesAtLevels = [['A'],['B'],['C'],['D','F'],['E','G']]\n",
    "        for nodes in breadthFirstSearch(self.graph, 'A'):\n",
    "            self.assertEqual(nodes, nodesAtLevels[index])\n",
    "            index += 1\n",
    "            \n",
    "    def test_depthFirstSearch(self):\n",
    "        visited = set()\n",
    "        for node in depthFirstSearch(self.graph, 'A'):\n",
    "            visited.add(node)\n",
    "        self.assertEqual(len(visited), 7)\n",
    "        \n",
    "testSuiteSearch = unittest.TestLoader().loadTestsFromTestCase(TestSearch)\n",
    "runner = unittest.TextTestRunner()\n",
    "runner.run(testSuiteSearch)"
   ]
  },
  {
   "cell_type": "code",
   "execution_count": 28,
   "metadata": {
    "collapsed": false
   },
   "outputs": [],
   "source": [
    "# 4.1 Route Between Nodes: Given a directed graph, design an algorithm to find out whether there is a route between two nodes.\n",
    "\n",
    "# breadth first or depth first search starting from one node and looking for the other\n",
    "# time complexity: O(V+E)\n",
    "# space complexity: O(V)\n",
    "        \n",
    "def routeBetweenNodes(graph, start, end):\n",
    "    for nodes in breadthFirstSearch(graph, start):\n",
    "        if end in nodes:\n",
    "            return True\n",
    "    return False"
   ]
  },
  {
   "cell_type": "code",
   "execution_count": 27,
   "metadata": {
    "collapsed": false
   },
   "outputs": [
    {
     "name": "stderr",
     "output_type": "stream",
     "text": [
      ".\n",
      "----------------------------------------------------------------------\n",
      "Ran 1 test in 0.003s\n",
      "\n",
      "OK\n"
     ]
    },
    {
     "data": {
      "text/plain": [
       "<unittest.runner.TextTestResult run=1 errors=0 failures=0>"
      ]
     },
     "execution_count": 27,
     "metadata": {},
     "output_type": "execute_result"
    }
   ],
   "source": [
    "import unittest\n",
    "class TestRouteBetweenNodes(unittest.TestCase):\n",
    "    def setUp(self):\n",
    "        connections = [('A', 'B'), ('B', 'C'), ('C', 'D'), ('D', 'E'), ('C','F'), ('F', 'G')]\n",
    "        self.graph = Graph(connections, directed=True)\n",
    "    \n",
    "    def test_routeBetweenNodes(self):\n",
    "        self.assertTrue(routeBetweenNodes(self.graph, 'A', 'G'))\n",
    "        self.assertFalse(routeBetweenNodes(self.graph, 'D', 'B'))\n",
    "        \n",
    "testSuiteRouteBetweenNodes = unittest.TestLoader().loadTestsFromTestCase(TestRouteBetweenNodes)\n",
    "runner = unittest.TextTestRunner()\n",
    "runner.run(testSuiteRouteBetweenNodes)"
   ]
  },
  {
   "cell_type": "code",
   "execution_count": 29,
   "metadata": {
    "collapsed": false
   },
   "outputs": [
    {
     "name": "stderr",
     "output_type": "stream",
     "text": [
      "......\n",
      "----------------------------------------------------------------------\n",
      "Ran 6 tests in 0.013s\n",
      "\n",
      "OK\n"
     ]
    },
    {
     "data": {
      "text/plain": [
       "<unittest.runner.TextTestResult run=6 errors=0 failures=0>"
      ]
     },
     "execution_count": 29,
     "metadata": {},
     "output_type": "execute_result"
    }
   ],
   "source": [
    "# source: https://stackoverflow.com/questions/1732438/how-do-i-run-all-python-unit-tests-in-a-directory\n",
    "testmodules = [\n",
    "    TestGraph,\n",
    "    TestSearch,\n",
    "    TestRouteBetweenNodes\n",
    "    ]\n",
    "\n",
    "suite = unittest.TestSuite()\n",
    "\n",
    "for t in testmodules:\n",
    "    suite.addTest(unittest.TestLoader().loadTestsFromTestCase(t))\n",
    "\n",
    "unittest.TextTestRunner().run(suite)"
   ]
  },
  {
   "cell_type": "code",
   "execution_count": null,
   "metadata": {
    "collapsed": true
   },
   "outputs": [],
   "source": []
  }
 ],
 "metadata": {
  "kernelspec": {
   "display_name": "Python 3",
   "language": "python",
   "name": "python3"
  },
  "language_info": {
   "codemirror_mode": {
    "name": "ipython",
    "version": 3
   },
   "file_extension": ".py",
   "mimetype": "text/x-python",
   "name": "python",
   "nbconvert_exporter": "python",
   "pygments_lexer": "ipython3",
   "version": "3.6.0"
  }
 },
 "nbformat": 4,
 "nbformat_minor": 2
}

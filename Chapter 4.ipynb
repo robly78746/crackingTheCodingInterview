{
 "cells": [
  {
   "cell_type": "code",
   "execution_count": 93,
   "metadata": {
    "collapsed": false
   },
   "outputs": [],
   "source": [
    "from collections import defaultdict\n",
    "class Graph:\n",
    "    def __init__(self, connections, directed):\n",
    "        self.graph = defaultdict(set)\n",
    "        self.directed = directed\n",
    "        self.add_connections(connections)\n",
    "        \n",
    "    def add_connections(self, connections):\n",
    "        for node1, node2 in connections:\n",
    "            self.add(node1, node2)\n",
    "                \n",
    "    def add(self, node1, node2):\n",
    "        self.graph[node1].add(node2)\n",
    "        if not self.directed:\n",
    "            self.graph[node2].add(node1)\n",
    "    def remove(self, node):\n",
    "        for source, targets in self.graph.items():\n",
    "            try:\n",
    "                targets.remove(node)\n",
    "            except KeyError:\n",
    "                pass\n",
    "        try:\n",
    "            del self.graph[node]\n",
    "        except KeyError:\n",
    "            pass"
   ]
  },
  {
   "cell_type": "code",
   "execution_count": 94,
   "metadata": {
    "collapsed": false
   },
   "outputs": [
    {
     "name": "stderr",
     "output_type": "stream",
     "text": [
      "...\n",
      "----------------------------------------------------------------------\n",
      "Ran 3 tests in 0.005s\n",
      "\n",
      "OK\n"
     ]
    },
    {
     "data": {
      "text/plain": [
       "<unittest.runner.TextTestResult run=3 errors=0 failures=0>"
      ]
     },
     "execution_count": 94,
     "metadata": {},
     "output_type": "execute_result"
    }
   ],
   "source": [
    "import unittest\n",
    "class TestGraph(unittest.TestCase):\n",
    "    def setUp(self):\n",
    "        connections = [('A', 'B'), ('B', 'C'), ('C', 'D'), ('D', 'E'), ('C','F'), ('F', 'G')]\n",
    "        self.graph = Graph(connections, directed=True)\n",
    "    \n",
    "    def test_add_connections(self):\n",
    "        newConnections = [('G', 'H'), ('G', 'A')]\n",
    "        self.graph.add_connections(newConnections)\n",
    "        gConnections = self.graph.graph['G']\n",
    "        self.assertEqual(len(gConnections), 2)\n",
    "        self.assertTrue('H' in gConnections and 'A' in gConnections)\n",
    "        \n",
    "    def test_add(self):\n",
    "        self.graph.add('G','H')\n",
    "        gConnections = self.graph.graph['G']\n",
    "        self.assertEqual(len(gConnections), 1)\n",
    "        self.assertTrue('H' in gConnections)\n",
    "        \n",
    "    def test_remove(self):\n",
    "        self.graph.remove('B')\n",
    "        aConnections = self.graph.graph['A']\n",
    "        self.assertEqual(len(aConnections), 0)\n",
    "        self.assertTrue('B' not in self.graph.graph)\n",
    "        \n",
    "testSuiteGraph = unittest.TestLoader().loadTestsFromTestCase(TestGraph)\n",
    "runner = unittest.TextTestRunner()\n",
    "runner.run(testSuiteGraph)"
   ]
  },
  {
   "cell_type": "code",
   "execution_count": 95,
   "metadata": {
    "collapsed": true
   },
   "outputs": [],
   "source": [
    "def breadthFirstSearch(graph, start):\n",
    "    nodesAtLevel = [start]\n",
    "    visited = []\n",
    "    while len(nodesAtLevel) > 0:\n",
    "        nodesAtNextLevel = []\n",
    "        yield nodesAtLevel\n",
    "        for node in nodesAtLevel:\n",
    "            targets = graph.graph[node]\n",
    "            for target in targets:\n",
    "                if target not in visited:\n",
    "                    nodesAtNextLevel.append(target)\n",
    "            visited.append(node)\n",
    "        nodesAtLevel = nodesAtNextLevel\n",
    "        \n",
    "        \n",
    "def depthFirstSearch(graph, start):\n",
    "    nodesToVisit = [start]\n",
    "    visited = []\n",
    "    while len(nodesToVisit) > 0:\n",
    "        node = nodesToVisit.pop()\n",
    "        yield node\n",
    "        targets = graph.graph[node]\n",
    "        for target in targets:\n",
    "            if target not in visited:\n",
    "                nodesToVisit.append(target)\n",
    "        visited.append(node)"
   ]
  },
  {
   "cell_type": "code",
   "execution_count": 96,
   "metadata": {
    "collapsed": false
   },
   "outputs": [
    {
     "name": "stderr",
     "output_type": "stream",
     "text": [
      "..\n",
      "----------------------------------------------------------------------\n",
      "Ran 2 tests in 0.009s\n",
      "\n",
      "OK\n"
     ]
    },
    {
     "data": {
      "text/plain": [
       "<unittest.runner.TextTestResult run=2 errors=0 failures=0>"
      ]
     },
     "execution_count": 96,
     "metadata": {},
     "output_type": "execute_result"
    }
   ],
   "source": [
    "import unittest\n",
    "class TestSearch(unittest.TestCase):\n",
    "    def setUp(self):\n",
    "        connections = [('A', 'B'), ('B', 'C'), ('C', 'D'), ('D', 'E'), ('C','F'), ('F', 'G')]\n",
    "        self.graph = Graph(connections, directed=True)\n",
    "    \n",
    "    def test_breadthFirstSearch(self):\n",
    "        index = 0\n",
    "        nodesAtLevels = [['A'],['B'],['C'],['D','F'],['E','G']]\n",
    "        for nodes in breadthFirstSearch(self.graph, 'A'):\n",
    "            self.assertEqual(nodes, nodesAtLevels[index])\n",
    "            index += 1\n",
    "            \n",
    "    def test_depthFirstSearch(self):\n",
    "        visited = set()\n",
    "        for node in depthFirstSearch(self.graph, 'A'):\n",
    "            visited.add(node)\n",
    "        self.assertEqual(len(visited), 7)\n",
    "        \n",
    "testSuiteSearch = unittest.TestLoader().loadTestsFromTestCase(TestSearch)\n",
    "runner = unittest.TextTestRunner()\n",
    "runner.run(testSuiteSearch)"
   ]
  },
  {
   "cell_type": "code",
   "execution_count": 97,
   "metadata": {
    "collapsed": false
   },
   "outputs": [],
   "source": [
    "# 4.1 Route Between Nodes: Given a directed graph, design an algorithm to find out whether there is a route between two nodes.\n",
    "\n",
    "# breadth first or depth first search starting from one node and looking for the other\n",
    "# time complexity: O(V+E)\n",
    "# space complexity: O(V)\n",
    "        \n",
    "def routeBetweenNodes(graph, start, end):\n",
    "    for nodes in breadthFirstSearch(graph, start):\n",
    "        if end in nodes:\n",
    "            return True\n",
    "    return False"
   ]
  },
  {
   "cell_type": "code",
   "execution_count": 98,
   "metadata": {
    "collapsed": false
   },
   "outputs": [
    {
     "name": "stderr",
     "output_type": "stream",
     "text": [
      ".\n",
      "----------------------------------------------------------------------\n",
      "Ran 1 test in 0.004s\n",
      "\n",
      "OK\n"
     ]
    },
    {
     "data": {
      "text/plain": [
       "<unittest.runner.TextTestResult run=1 errors=0 failures=0>"
      ]
     },
     "execution_count": 98,
     "metadata": {},
     "output_type": "execute_result"
    }
   ],
   "source": [
    "import unittest\n",
    "class TestRouteBetweenNodes(unittest.TestCase):\n",
    "    def setUp(self):\n",
    "        connections = [('A', 'B'), ('B', 'C'), ('C', 'D'), ('D', 'E'), ('C','F'), ('F', 'G')]\n",
    "        self.graph = Graph(connections, directed=True)\n",
    "    \n",
    "    def test_routeBetweenNodes(self):\n",
    "        self.assertTrue(routeBetweenNodes(self.graph, 'A', 'G'))\n",
    "        self.assertFalse(routeBetweenNodes(self.graph, 'D', 'B'))\n",
    "        \n",
    "testSuiteRouteBetweenNodes = unittest.TestLoader().loadTestsFromTestCase(TestRouteBetweenNodes)\n",
    "runner = unittest.TextTestRunner()\n",
    "runner.run(testSuiteRouteBetweenNodes)"
   ]
  },
  {
   "cell_type": "code",
   "execution_count": 99,
   "metadata": {
    "collapsed": true
   },
   "outputs": [],
   "source": [
    "class BinaryTreeNode:\n",
    "    def __init__(self, data):\n",
    "        self.data = data\n",
    "        self.leftChild = None\n",
    "        self.rightChild = None\n",
    "    def getLeftChild(self):\n",
    "        return self.leftChild\n",
    "    def getRightChild(self):\n",
    "        return self.rightChild\n",
    "    def setRightChild(self, node):\n",
    "        self.rightChild = node\n",
    "    def setLeftChild(self, node):\n",
    "        self.leftChild = node\n",
    "    def getData(self):\n",
    "        return self.data"
   ]
  },
  {
   "cell_type": "code",
   "execution_count": 100,
   "metadata": {
    "collapsed": false
   },
   "outputs": [
    {
     "name": "stderr",
     "output_type": "stream",
     "text": [
      ".....\n",
      "----------------------------------------------------------------------\n",
      "Ran 5 tests in 0.013s\n",
      "\n",
      "OK\n"
     ]
    },
    {
     "data": {
      "text/plain": [
       "<unittest.runner.TextTestResult run=5 errors=0 failures=0>"
      ]
     },
     "execution_count": 100,
     "metadata": {},
     "output_type": "execute_result"
    }
   ],
   "source": [
    "import unittest\n",
    "class TestBinaryTreeNode(unittest.TestCase):\n",
    "    def setUp(self):\n",
    "        self.node1 = BinaryTreeNode(1)\n",
    "        self.node2 = BinaryTreeNode(2)\n",
    "        self.node3 = BinaryTreeNode(3)\n",
    "        self.node1.setLeftChild(self.node2)\n",
    "    \n",
    "    def test_getLeftChild(self):\n",
    "        self.assertEqual(self.node1.getLeftChild(), self.node2)\n",
    "        self.assertTrue(self.node2.getLeftChild() is None)\n",
    "        \n",
    "    def test_getRightChild(self):\n",
    "        self.assertTrue(self.node1.getRightChild() is None)\n",
    "        \n",
    "    def test_setRightChild(self):\n",
    "        self.node1.setRightChild(self.node3)\n",
    "        self.assertEqual(self.node1.getRightChild().getData(), 3)\n",
    "        \n",
    "    def test_setLeftChild(self):\n",
    "        self.node1.setLeftChild(self.node3)\n",
    "        self.assertEqual(self.node1.getLeftChild().getData(), 3)\n",
    "        \n",
    "    def test_getData(self):\n",
    "        self.assertEqual(self.node1.getData(), 1)\n",
    "        \n",
    "testSuiteBinaryTreeNode = unittest.TestLoader().loadTestsFromTestCase(TestBinaryTreeNode)\n",
    "runner = unittest.TextTestRunner()\n",
    "runner.run(testSuiteBinaryTreeNode)"
   ]
  },
  {
   "cell_type": "code",
   "execution_count": 101,
   "metadata": {
    "collapsed": false
   },
   "outputs": [],
   "source": [
    "class BinaryTree:\n",
    "    def __init__(self, data=[]):\n",
    "        self.root = None\n",
    "        for datum in data:\n",
    "            self.add(datum)\n",
    "    \n",
    "    def add(self, data):\n",
    "        newNode = BinaryTreeNode(data)\n",
    "        \n",
    "        if self.root:\n",
    "            curNode = self.root\n",
    "            while curNode:\n",
    "                if data > curNode.getData():\n",
    "                    if not curNode.getRightChild():\n",
    "                        curNode.setRightChild(newNode)\n",
    "                        break\n",
    "                    else:\n",
    "                        curNode = curNode.getRightChild()\n",
    "                else:\n",
    "                    if not curNode.getLeftChild():\n",
    "                        curNode.setLeftChild(newNode)\n",
    "                        break\n",
    "                    else:\n",
    "                        curNode = curNode.getLeftChild()\n",
    "        else:\n",
    "            self.root = newNode\n",
    "\n",
    "    def search(self, data):\n",
    "        return self.search_recursive(self.root, data)\n",
    "        \n",
    "    def search_recursive(self, node, data):\n",
    "        if node:\n",
    "            if node.getData() == data:\n",
    "                return node\n",
    "            if data > node.getData():\n",
    "                return self.search_recursive(node.getRightChild(), data)\n",
    "            else:\n",
    "                return self.search_recursive(node.getLeftChild(), data)\n",
    "        else:\n",
    "            return None\n",
    "    def inOrderTraversal(self, node, function):\n",
    "        if node:\n",
    "            self.inOrderTraversal(node.getLeftChild(), function)\n",
    "            function(node.getData())\n",
    "            self.inOrderTraversal(node.getRightChild(), function)\n",
    "            \n",
    "    def print(self):\n",
    "        self.inOrderTraversal(self.root, print)\n",
    "        \n",
    "    def height(self):\n",
    "        return self.height_recursive(self.root)\n",
    "    def height_recursive(self, node):\n",
    "        if not node:\n",
    "            return 0\n",
    "        leftHeight = self.height_recursive(node.getLeftChild())\n",
    "        rightHeight = self.height_recursive(node.getRightChild())\n",
    "        return max(leftHeight, rightHeight) + 1"
   ]
  },
  {
   "cell_type": "code",
   "execution_count": 102,
   "metadata": {
    "collapsed": false
   },
   "outputs": [
    {
     "name": "stderr",
     "output_type": "stream",
     "text": [
      "...\n",
      "----------------------------------------------------------------------\n",
      "Ran 3 tests in 0.006s\n",
      "\n",
      "OK\n"
     ]
    },
    {
     "data": {
      "text/plain": [
       "<unittest.runner.TextTestResult run=3 errors=0 failures=0>"
      ]
     },
     "execution_count": 102,
     "metadata": {},
     "output_type": "execute_result"
    }
   ],
   "source": [
    "import unittest\n",
    "class TestBinaryTree(unittest.TestCase):\n",
    "    def setUp(self):\n",
    "        self.binaryTree = BinaryTree([5,4,6,3,7,1,8])\n",
    "    def test_add(self):\n",
    "        found = self.binaryTree.search(2)\n",
    "        self.assertTrue(found is None)\n",
    "        self.binaryTree.add(2)\n",
    "        found = self.binaryTree.search(2)\n",
    "        self.assertEqual(found.getData(), 2)\n",
    "        \n",
    "    def test_search(self):\n",
    "        found = self.binaryTree.search(1)\n",
    "        self.assertTrue(found is not None)\n",
    "        self.assertEqual(found.getData(), 1)\n",
    "        found = self.binaryTree.search(9)\n",
    "        self.assertTrue(found is None)\n",
    "        \n",
    "    def test_height(self):\n",
    "        self.assertEqual(self.binaryTree.height(), 4)\n",
    "        self.binaryTree.add(0)\n",
    "        self.assertEqual(self.binaryTree.height(), 5)\n",
    "        \n",
    "testSuiteBinaryTree = unittest.TestLoader().loadTestsFromTestCase(TestBinaryTree)\n",
    "runner = unittest.TextTestRunner()\n",
    "runner.run(testSuiteBinaryTree)"
   ]
  },
  {
   "cell_type": "code",
   "execution_count": 103,
   "metadata": {
    "collapsed": false
   },
   "outputs": [],
   "source": [
    "# 4.2 Minimal Tree: Given a sorted (increasing order) array with unique integer elements, write an algorithm to create a binary search tree with minimal height.\n",
    "\n",
    "# find middle element and add it to tree\n",
    "# repeat with left and right half\n",
    "\n",
    "def minimalTree(array):\n",
    "    binarySearchTree = BinaryTree()\n",
    "    minimalTree_recursive(binarySearchTree, array)\n",
    "    return binarySearchTree\n",
    "def minimalTree_recursive(tree, array):\n",
    "    if len(array) == 0:\n",
    "        return\n",
    "    middleIndex = len(array) // 2\n",
    "    tree.add(array[middleIndex])\n",
    "    lowerLow = 0\n",
    "    lowerHigh = middleIndex\n",
    "    if lowerLow < lowerHigh:\n",
    "        minimalTree_recursive(tree, array[lowerLow:lowerHigh])\n",
    "    higherLow = middleIndex + 1\n",
    "    higherHigh = len(array)\n",
    "    if higherLow < higherHigh:\n",
    "        minimalTree_recursive(tree, array[higherLow:higherHigh])"
   ]
  },
  {
   "cell_type": "code",
   "execution_count": 104,
   "metadata": {
    "collapsed": false
   },
   "outputs": [
    {
     "name": "stderr",
     "output_type": "stream",
     "text": [
      ".\n",
      "----------------------------------------------------------------------\n",
      "Ran 1 test in 0.002s\n",
      "\n",
      "OK\n"
     ]
    },
    {
     "data": {
      "text/plain": [
       "<unittest.runner.TextTestResult run=1 errors=0 failures=0>"
      ]
     },
     "execution_count": 104,
     "metadata": {},
     "output_type": "execute_result"
    }
   ],
   "source": [
    "import unittest\n",
    "from math import log\n",
    "class TestMinimalTree(unittest.TestCase):\n",
    "    def setUp(self):\n",
    "        # array must be sorted in ascending order\n",
    "        self.array = [3,4,6,7,8,14]\n",
    "        \n",
    "    def test_minimalTree(self):\n",
    "        tree = minimalTree(self.array)\n",
    "        expectedMinHeight = round(log(len(self.array), 2))\n",
    "        self.assertEqual(tree.height(), expectedMinHeight)\n",
    "        \n",
    "testSuiteMinimalTree = unittest.TestLoader().loadTestsFromTestCase(TestMinimalTree)\n",
    "runner = unittest.TextTestRunner()\n",
    "runner.run(testSuiteMinimalTree)"
   ]
  },
  {
   "cell_type": "code",
   "execution_count": 105,
   "metadata": {
    "collapsed": true
   },
   "outputs": [],
   "source": [
    "class LinkedListNode:\n",
    "    def __init__(self, value):\n",
    "        self.value = value\n",
    "        self.nextNode = None\n",
    "    def getNextNode(self):\n",
    "        return self.nextNode\n",
    "    def setNextNode(self, node):\n",
    "        self.nextNode = node\n",
    "    def getValue(self):\n",
    "        return self.value\n",
    "    def setValue(self, value):\n",
    "        self.value = value\n",
    "        \n",
    "class LinkedList:\n",
    "    head = None\n",
    "    def __init__(self, values):\n",
    "        try:\n",
    "            for value in reversed(values):\n",
    "                self.add(value)\n",
    "        except TypeError:\n",
    "            if type(values) is LinkedListNode:\n",
    "                self.head = values\n",
    "            else:\n",
    "                self.head = LinkedListNode(values)\n",
    "    def add(self, data):\n",
    "        newNode = LinkedListNode(data)\n",
    "        newNode.setNextNode(self.head)\n",
    "        self.head = newNode\n",
    "    def get(self, index):\n",
    "        node = self.head\n",
    "        data = None\n",
    "        for i in range(index):\n",
    "            if node:\n",
    "                node = node.getNextNode()\n",
    "            else:\n",
    "                break\n",
    "        if node:\n",
    "            data = node.getValue()\n",
    "        return data\n",
    "    def print(self):\n",
    "        print(self.getList())\n",
    "    def length(self):\n",
    "        node = self.head\n",
    "        length = 0\n",
    "        while node:\n",
    "            length += 1\n",
    "            node = node.getNextNode()\n",
    "        return length\n",
    "    def getList(self):\n",
    "        node = self.head\n",
    "        nodes = []\n",
    "        while node is not None:\n",
    "            nodes.append(node.getValue())\n",
    "            node = node.getNextNode()\n",
    "        return nodes"
   ]
  },
  {
   "cell_type": "code",
   "execution_count": 106,
   "metadata": {
    "collapsed": false
   },
   "outputs": [],
   "source": [
    "# 4.3 List of Depths: Given a binary tree, design an algorithm which creates a linked list of all the nodes at each depth (e.g., if you have a tree with depth D, you'll have D linked lists)\n",
    "\n",
    "# breadth first search from root, add nodes at each level to linked lists\n",
    "\n",
    "def breadthFirstSearch_binary(tree):\n",
    "    nodesAtLevel = [tree.root]\n",
    "    while len(nodesAtLevel) > 0:\n",
    "        nodesAtNextLevel = []\n",
    "        yield nodesAtLevel\n",
    "        for node in nodesAtLevel:\n",
    "            if node:\n",
    "                leftChild = node.getLeftChild()\n",
    "                rightChild = node.getRightChild()\n",
    "                if leftChild:\n",
    "                    nodesAtNextLevel.append(leftChild)\n",
    "                if rightChild:\n",
    "                    nodesAtNextLevel.append(rightChild)\n",
    "            \n",
    "        nodesAtLevel = nodesAtNextLevel\n",
    "        \n",
    "def listOfDepths(tree):\n",
    "    listOfLists = []\n",
    "    for nodes in breadthFirstSearch_binary(tree):\n",
    "        listOfLists.append(LinkedList([n.getData() for n in nodes]))\n",
    "    return listOfLists"
   ]
  },
  {
   "cell_type": "code",
   "execution_count": 107,
   "metadata": {
    "collapsed": false
   },
   "outputs": [
    {
     "name": "stderr",
     "output_type": "stream",
     "text": [
      ".\n",
      "----------------------------------------------------------------------\n",
      "Ran 1 test in 0.001s\n",
      "\n",
      "OK\n"
     ]
    },
    {
     "data": {
      "text/plain": [
       "<unittest.runner.TextTestResult run=1 errors=0 failures=0>"
      ]
     },
     "execution_count": 107,
     "metadata": {},
     "output_type": "execute_result"
    }
   ],
   "source": [
    "import unittest\n",
    "from math import log\n",
    "from collections import Counter\n",
    "class TestListOfDepths(unittest.TestCase):\n",
    "    def setUp(self):\n",
    "        self.array = [7,4,14,3,6,8]\n",
    "        self.expectedArray = [[7],[4,14],[3,6,8]]\n",
    "        self.tree = BinaryTree()\n",
    "        for elem in self.array:\n",
    "            self.tree.add(elem)\n",
    "            \n",
    "    def test_listOfDepths(self):\n",
    "        lists = listOfDepths(self.tree)\n",
    "        lists = [l.getList() for l in lists]\n",
    "        for l, exp in zip(lists, self.expectedArray):\n",
    "            self.assertEqual(Counter(l), Counter(exp))\n",
    "        \n",
    "testSuiteListOfDepths = unittest.TestLoader().loadTestsFromTestCase(TestListOfDepths)\n",
    "runner = unittest.TextTestRunner()\n",
    "runner.run(testSuiteListOfDepths)"
   ]
  },
  {
   "cell_type": "code",
   "execution_count": 108,
   "metadata": {
    "collapsed": false
   },
   "outputs": [
    {
     "name": "stderr",
     "output_type": "stream",
     "text": [
      "................\n",
      "----------------------------------------------------------------------\n",
      "Ran 16 tests in 0.043s\n",
      "\n",
      "OK\n"
     ]
    },
    {
     "data": {
      "text/plain": [
       "<unittest.runner.TextTestResult run=16 errors=0 failures=0>"
      ]
     },
     "execution_count": 108,
     "metadata": {},
     "output_type": "execute_result"
    }
   ],
   "source": [
    "# source: https://stackoverflow.com/questions/1732438/how-do-i-run-all-python-unit-tests-in-a-directory\n",
    "testmodules = [\n",
    "    TestGraph,\n",
    "    TestSearch,\n",
    "    TestRouteBetweenNodes, \n",
    "    TestBinaryTreeNode,\n",
    "    TestBinaryTree,\n",
    "    TestMinimalTree,\n",
    "    TestListOfDepths\n",
    "    ]\n",
    "\n",
    "suite = unittest.TestSuite()\n",
    "\n",
    "for t in testmodules:\n",
    "    suite.addTest(unittest.TestLoader().loadTestsFromTestCase(t))\n",
    "\n",
    "unittest.TextTestRunner().run(suite)"
   ]
  },
  {
   "cell_type": "code",
   "execution_count": null,
   "metadata": {
    "collapsed": true
   },
   "outputs": [],
   "source": []
  }
 ],
 "metadata": {
  "kernelspec": {
   "display_name": "Python 3",
   "language": "python",
   "name": "python3"
  },
  "language_info": {
   "codemirror_mode": {
    "name": "ipython",
    "version": 3
   },
   "file_extension": ".py",
   "mimetype": "text/x-python",
   "name": "python",
   "nbconvert_exporter": "python",
   "pygments_lexer": "ipython3",
   "version": "3.6.0"
  }
 },
 "nbformat": 4,
 "nbformat_minor": 2
}

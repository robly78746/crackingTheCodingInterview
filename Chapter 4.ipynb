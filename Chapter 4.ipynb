{
 "cells": [
  {
   "cell_type": "code",
   "execution_count": 168,
   "metadata": {
    "collapsed": false
   },
   "outputs": [],
   "source": [
    "from collections import defaultdict\n",
    "class Graph:\n",
    "    def __init__(self, connections, directed):\n",
    "        self.graph = defaultdict(set)\n",
    "        self.directed = directed\n",
    "        self.add_connections(connections)\n",
    "        \n",
    "    def add_connections(self, connections):\n",
    "        for node1, node2 in connections:\n",
    "            self.add(node1, node2)\n",
    "                \n",
    "    def add(self, node1, node2):\n",
    "        self.graph[node1].add(node2)\n",
    "        if not self.directed:\n",
    "            self.graph[node2].add(node1)\n",
    "    def remove(self, node):\n",
    "        for source, targets in self.graph.items():\n",
    "            try:\n",
    "                targets.remove(node)\n",
    "            except KeyError:\n",
    "                pass\n",
    "        try:\n",
    "            del self.graph[node]\n",
    "        except KeyError:\n",
    "            pass\n",
    "        \n",
    "    def removeEdge(self, edge):\n",
    "        source, target = edge\n",
    "        try:\n",
    "            self.graph[source].remove(target)\n",
    "        except KeyError:\n",
    "            pass\n",
    "        if not self.directed:\n",
    "            try:\n",
    "                self.graph[target].remove(source)\n",
    "            except KeyError:\n",
    "                pass\n",
    "        \n",
    "    def nodes(self):\n",
    "        nodes = set()\n",
    "        for source, targets in self.graph.items():\n",
    "            nodes.add(source)\n",
    "            nodes.update(targets)\n",
    "        return list(nodes)\n",
    "    \n",
    "    def edges(self, sourceSpecified=None):\n",
    "        edges = []\n",
    "        if sourceSpecified:\n",
    "            for target in self.graph[sourceSpecified]:\n",
    "                edges.append((sourceSpecified, target))\n",
    "        else:\n",
    "            for source in self.graph:\n",
    "                for target in self.graph[source]:\n",
    "                    edges.append((source, target))\n",
    "                    if not self.directed:\n",
    "                        try:\n",
    "                            edges.remove((target, source))\n",
    "                        except ValueError:\n",
    "                            pass\n",
    "        return edges"
   ]
  },
  {
   "cell_type": "code",
   "execution_count": 170,
   "metadata": {
    "collapsed": false
   },
   "outputs": [
    {
     "name": "stderr",
     "output_type": "stream",
     "text": [
      "......\n",
      "----------------------------------------------------------------------\n",
      "Ran 6 tests in 0.010s\n",
      "\n",
      "OK\n"
     ]
    },
    {
     "data": {
      "text/plain": [
       "<unittest.runner.TextTestResult run=6 errors=0 failures=0>"
      ]
     },
     "execution_count": 170,
     "metadata": {},
     "output_type": "execute_result"
    }
   ],
   "source": [
    "import unittest\n",
    "class TestGraph(unittest.TestCase):\n",
    "    def setUp(self):\n",
    "        self.connections = [('A', 'B'), ('B', 'C'), ('C', 'D'), ('D', 'E'), ('C','F'), ('F', 'G')]\n",
    "        self.graph = Graph(connections, directed=True)\n",
    "    \n",
    "    def test_add_connections(self):\n",
    "        newConnections = [('G', 'H'), ('G', 'A')]\n",
    "        self.graph.add_connections(newConnections)\n",
    "        gConnections = self.graph.graph['G']\n",
    "        self.assertEqual(len(gConnections), 2)\n",
    "        self.assertTrue('H' in gConnections and 'A' in gConnections)\n",
    "        \n",
    "    def test_add(self):\n",
    "        self.graph.add('G','H')\n",
    "        gConnections = self.graph.graph['G']\n",
    "        self.assertEqual(len(gConnections), 1)\n",
    "        self.assertTrue('H' in gConnections)\n",
    "        \n",
    "    def test_nodes(self):\n",
    "        expectedNodes = set(['A','B','C','D','E','F','G'])\n",
    "        nodes = self.graph.nodes()\n",
    "        self.assertEqual(set(nodes), expectedNodes)\n",
    "    def test_remove(self):\n",
    "        self.graph.remove('B')\n",
    "        aConnections = self.graph.graph['A']\n",
    "        self.assertEqual(len(aConnections), 0)\n",
    "        self.assertTrue('B' not in self.graph.graph)\n",
    "        \n",
    "    def test_removeEdge(self):\n",
    "        self.graph.removeEdge(('A','B'))\n",
    "        edgesFromA = self.graph.edges('A')\n",
    "        self.assertEqual(edgesFromA, [])\n",
    "    \n",
    "    def test_edges(self):\n",
    "        edges = self.graph.edges()\n",
    "        for edge in edges:\n",
    "            self.assertTrue(edge in self.connections)\n",
    "        edgesFromA = self.graph.edges('A')\n",
    "        self.assertEqual(edgesFromA, [('A','B')])\n",
    "        \n",
    "testSuiteGraph = unittest.TestLoader().loadTestsFromTestCase(TestGraph)\n",
    "runner = unittest.TextTestRunner()\n",
    "runner.run(testSuiteGraph)"
   ]
  },
  {
   "cell_type": "code",
   "execution_count": 95,
   "metadata": {
    "collapsed": true
   },
   "outputs": [],
   "source": [
    "def breadthFirstSearch(graph, start):\n",
    "    nodesAtLevel = [start]\n",
    "    visited = []\n",
    "    while len(nodesAtLevel) > 0:\n",
    "        nodesAtNextLevel = []\n",
    "        yield nodesAtLevel\n",
    "        for node in nodesAtLevel:\n",
    "            targets = graph.graph[node]\n",
    "            for target in targets:\n",
    "                if target not in visited:\n",
    "                    nodesAtNextLevel.append(target)\n",
    "            visited.append(node)\n",
    "        nodesAtLevel = nodesAtNextLevel\n",
    "        \n",
    "        \n",
    "def depthFirstSearch(graph, start):\n",
    "    nodesToVisit = [start]\n",
    "    visited = []\n",
    "    while len(nodesToVisit) > 0:\n",
    "        node = nodesToVisit.pop()\n",
    "        yield node\n",
    "        targets = graph.graph[node]\n",
    "        for target in targets:\n",
    "            if target not in visited:\n",
    "                nodesToVisit.append(target)\n",
    "        visited.append(node)"
   ]
  },
  {
   "cell_type": "code",
   "execution_count": 96,
   "metadata": {
    "collapsed": false
   },
   "outputs": [
    {
     "name": "stderr",
     "output_type": "stream",
     "text": [
      "..\n",
      "----------------------------------------------------------------------\n",
      "Ran 2 tests in 0.009s\n",
      "\n",
      "OK\n"
     ]
    },
    {
     "data": {
      "text/plain": [
       "<unittest.runner.TextTestResult run=2 errors=0 failures=0>"
      ]
     },
     "execution_count": 96,
     "metadata": {},
     "output_type": "execute_result"
    }
   ],
   "source": [
    "import unittest\n",
    "class TestSearch(unittest.TestCase):\n",
    "    def setUp(self):\n",
    "        connections = [('A', 'B'), ('B', 'C'), ('C', 'D'), ('D', 'E'), ('C','F'), ('F', 'G')]\n",
    "        self.graph = Graph(connections, directed=True)\n",
    "    \n",
    "    def test_breadthFirstSearch(self):\n",
    "        index = 0\n",
    "        nodesAtLevels = [['A'],['B'],['C'],['D','F'],['E','G']]\n",
    "        for nodes in breadthFirstSearch(self.graph, 'A'):\n",
    "            self.assertEqual(nodes, nodesAtLevels[index])\n",
    "            index += 1\n",
    "            \n",
    "    def test_depthFirstSearch(self):\n",
    "        visited = set()\n",
    "        for node in depthFirstSearch(self.graph, 'A'):\n",
    "            visited.add(node)\n",
    "        self.assertEqual(len(visited), 7)\n",
    "        \n",
    "testSuiteSearch = unittest.TestLoader().loadTestsFromTestCase(TestSearch)\n",
    "runner = unittest.TextTestRunner()\n",
    "runner.run(testSuiteSearch)"
   ]
  },
  {
   "cell_type": "code",
   "execution_count": 97,
   "metadata": {
    "collapsed": false
   },
   "outputs": [],
   "source": [
    "# 4.1 Route Between Nodes: Given a directed graph, design an algorithm to find out whether there is a route between two nodes.\n",
    "\n",
    "# breadth first or depth first search starting from one node and looking for the other\n",
    "# time complexity: O(V+E)\n",
    "# space complexity: O(V)\n",
    "        \n",
    "def routeBetweenNodes(graph, start, end):\n",
    "    for nodes in breadthFirstSearch(graph, start):\n",
    "        if end in nodes:\n",
    "            return True\n",
    "    return False"
   ]
  },
  {
   "cell_type": "code",
   "execution_count": 98,
   "metadata": {
    "collapsed": false
   },
   "outputs": [
    {
     "name": "stderr",
     "output_type": "stream",
     "text": [
      ".\n",
      "----------------------------------------------------------------------\n",
      "Ran 1 test in 0.004s\n",
      "\n",
      "OK\n"
     ]
    },
    {
     "data": {
      "text/plain": [
       "<unittest.runner.TextTestResult run=1 errors=0 failures=0>"
      ]
     },
     "execution_count": 98,
     "metadata": {},
     "output_type": "execute_result"
    }
   ],
   "source": [
    "import unittest\n",
    "class TestRouteBetweenNodes(unittest.TestCase):\n",
    "    def setUp(self):\n",
    "        connections = [('A', 'B'), ('B', 'C'), ('C', 'D'), ('D', 'E'), ('C','F'), ('F', 'G')]\n",
    "        self.graph = Graph(connections, directed=True)\n",
    "    \n",
    "    def test_routeBetweenNodes(self):\n",
    "        self.assertTrue(routeBetweenNodes(self.graph, 'A', 'G'))\n",
    "        self.assertFalse(routeBetweenNodes(self.graph, 'D', 'B'))\n",
    "        \n",
    "testSuiteRouteBetweenNodes = unittest.TestLoader().loadTestsFromTestCase(TestRouteBetweenNodes)\n",
    "runner = unittest.TextTestRunner()\n",
    "runner.run(testSuiteRouteBetweenNodes)"
   ]
  },
  {
   "cell_type": "code",
   "execution_count": 133,
   "metadata": {
    "collapsed": true
   },
   "outputs": [],
   "source": [
    "class BinaryTreeNode:\n",
    "    def __init__(self, data):\n",
    "        self.data = data\n",
    "        self.parent = None\n",
    "        self.leftChild = None\n",
    "        self.rightChild = None\n",
    "    def getLeftChild(self):\n",
    "        return self.leftChild\n",
    "    def getRightChild(self):\n",
    "        return self.rightChild\n",
    "    def setRightChild(self, node):\n",
    "        self.rightChild = node\n",
    "    def setLeftChild(self, node):\n",
    "        self.leftChild = node\n",
    "    def getData(self):\n",
    "        return self.data\n",
    "    def getParent(self):\n",
    "        return self.parent\n",
    "    def setParent(self, parent):\n",
    "        self.parent = parent"
   ]
  },
  {
   "cell_type": "code",
   "execution_count": 135,
   "metadata": {
    "collapsed": false
   },
   "outputs": [
    {
     "name": "stderr",
     "output_type": "stream",
     "text": [
      ".......\n",
      "----------------------------------------------------------------------\n",
      "Ran 7 tests in 0.017s\n",
      "\n",
      "OK\n"
     ]
    },
    {
     "data": {
      "text/plain": [
       "<unittest.runner.TextTestResult run=7 errors=0 failures=0>"
      ]
     },
     "execution_count": 135,
     "metadata": {},
     "output_type": "execute_result"
    }
   ],
   "source": [
    "import unittest\n",
    "class TestBinaryTreeNode(unittest.TestCase):\n",
    "    def setUp(self):\n",
    "        self.node1 = BinaryTreeNode(1)\n",
    "        self.node2 = BinaryTreeNode(2)\n",
    "        self.node3 = BinaryTreeNode(3)\n",
    "        self.node1.setLeftChild(self.node2)\n",
    "        self.node2.setParent(self.node1)\n",
    "    \n",
    "    def test_getLeftChild(self):\n",
    "        self.assertEqual(self.node1.getLeftChild(), self.node2)\n",
    "        self.assertTrue(self.node2.getLeftChild() is None)\n",
    "        \n",
    "    def test_getRightChild(self):\n",
    "        self.assertTrue(self.node1.getRightChild() is None)\n",
    "        \n",
    "    def test_setRightChild(self):\n",
    "        self.node1.setRightChild(self.node3)\n",
    "        self.assertEqual(self.node1.getRightChild().getData(), 3)\n",
    "        \n",
    "    def test_setLeftChild(self):\n",
    "        self.node1.setLeftChild(self.node3)\n",
    "        self.assertEqual(self.node1.getLeftChild().getData(), 3)\n",
    "        \n",
    "    def test_getData(self):\n",
    "        self.assertEqual(self.node1.getData(), 1)\n",
    "        \n",
    "    def test_getParent(self):\n",
    "        self.assertEqual(self.node2.getParent(), self.node1)\n",
    "    \n",
    "    def test_setParent(self):\n",
    "        self.node3.setParent(self.node2)\n",
    "        self.assertEqual(self.node3.getParent(), self.node2)\n",
    "        \n",
    "testSuiteBinaryTreeNode = unittest.TestLoader().loadTestsFromTestCase(TestBinaryTreeNode)\n",
    "runner = unittest.TextTestRunner()\n",
    "runner.run(testSuiteBinaryTreeNode)"
   ]
  },
  {
   "cell_type": "code",
   "execution_count": 136,
   "metadata": {
    "collapsed": false
   },
   "outputs": [],
   "source": [
    "class BinaryTree:\n",
    "    def __init__(self, data=[]):\n",
    "        self.root = None\n",
    "        for datum in data:\n",
    "            self.add(datum)\n",
    "    \n",
    "    def add(self, data):\n",
    "        newNode = BinaryTreeNode(data)\n",
    "        \n",
    "        if self.root:\n",
    "            curNode = self.root\n",
    "            while curNode:\n",
    "                if data > curNode.getData():\n",
    "                    if not curNode.getRightChild():\n",
    "                        curNode.setRightChild(newNode)\n",
    "                        newNode.setParent(curNode)\n",
    "                        break\n",
    "                    else:\n",
    "                        curNode = curNode.getRightChild()\n",
    "                else:\n",
    "                    if not curNode.getLeftChild():\n",
    "                        curNode.setLeftChild(newNode)\n",
    "                        newNode.setParent(curNode)\n",
    "                        break\n",
    "                    else:\n",
    "                        curNode = curNode.getLeftChild()\n",
    "        else:\n",
    "            self.root = newNode\n",
    "\n",
    "    def search(self, data):\n",
    "        return self.search_recursive(self.root, data)\n",
    "        \n",
    "    def search_recursive(self, node, data):\n",
    "        if node:\n",
    "            if node.getData() == data:\n",
    "                return node\n",
    "            if data > node.getData():\n",
    "                return self.search_recursive(node.getRightChild(), data)\n",
    "            else:\n",
    "                return self.search_recursive(node.getLeftChild(), data)\n",
    "        else:\n",
    "            return None\n",
    "    def inOrderTraversal(self, node, function):\n",
    "        if node:\n",
    "            self.inOrderTraversal(node.getLeftChild(), function)\n",
    "            function(node.getData())\n",
    "            self.inOrderTraversal(node.getRightChild(), function)\n",
    "            \n",
    "    def print(self):\n",
    "        self.inOrderTraversal(self.root, print)\n",
    "        \n",
    "    def height(self):\n",
    "        return self.height_recursive(self.root)\n",
    "    def height_recursive(self, node):\n",
    "        if not node:\n",
    "            return 0\n",
    "        leftHeight = self.height_recursive(node.getLeftChild())\n",
    "        rightHeight = self.height_recursive(node.getRightChild())\n",
    "        return max(leftHeight, rightHeight) + 1"
   ]
  },
  {
   "cell_type": "code",
   "execution_count": 137,
   "metadata": {
    "collapsed": false
   },
   "outputs": [
    {
     "name": "stderr",
     "output_type": "stream",
     "text": [
      "...\n",
      "----------------------------------------------------------------------\n",
      "Ran 3 tests in 0.009s\n",
      "\n",
      "OK\n"
     ]
    },
    {
     "data": {
      "text/plain": [
       "<unittest.runner.TextTestResult run=3 errors=0 failures=0>"
      ]
     },
     "execution_count": 137,
     "metadata": {},
     "output_type": "execute_result"
    }
   ],
   "source": [
    "import unittest\n",
    "class TestBinaryTree(unittest.TestCase):\n",
    "    def setUp(self):\n",
    "        self.binaryTree = BinaryTree([5,4,6,3,7,1,8])\n",
    "    def test_add(self):\n",
    "        found = self.binaryTree.search(2)\n",
    "        self.assertTrue(found is None)\n",
    "        self.binaryTree.add(2)\n",
    "        found = self.binaryTree.search(2)\n",
    "        self.assertEqual(found.getData(), 2)\n",
    "        \n",
    "    def test_search(self):\n",
    "        found = self.binaryTree.search(1)\n",
    "        self.assertTrue(found is not None)\n",
    "        self.assertEqual(found.getData(), 1)\n",
    "        found = self.binaryTree.search(9)\n",
    "        self.assertTrue(found is None)\n",
    "        \n",
    "    def test_height(self):\n",
    "        self.assertEqual(self.binaryTree.height(), 4)\n",
    "        self.binaryTree.add(0)\n",
    "        self.assertEqual(self.binaryTree.height(), 5)\n",
    "        \n",
    "testSuiteBinaryTree = unittest.TestLoader().loadTestsFromTestCase(TestBinaryTree)\n",
    "runner = unittest.TextTestRunner()\n",
    "runner.run(testSuiteBinaryTree)"
   ]
  },
  {
   "cell_type": "code",
   "execution_count": 103,
   "metadata": {
    "collapsed": false
   },
   "outputs": [],
   "source": [
    "# 4.2 Minimal Tree: Given a sorted (increasing order) array with unique integer elements, write an algorithm to create a binary search tree with minimal height.\n",
    "\n",
    "# find middle element and add it to tree\n",
    "# repeat with left and right half\n",
    "\n",
    "def minimalTree(array):\n",
    "    binarySearchTree = BinaryTree()\n",
    "    minimalTree_recursive(binarySearchTree, array)\n",
    "    return binarySearchTree\n",
    "def minimalTree_recursive(tree, array):\n",
    "    if len(array) == 0:\n",
    "        return\n",
    "    middleIndex = len(array) // 2\n",
    "    tree.add(array[middleIndex])\n",
    "    lowerLow = 0\n",
    "    lowerHigh = middleIndex\n",
    "    if lowerLow < lowerHigh:\n",
    "        minimalTree_recursive(tree, array[lowerLow:lowerHigh])\n",
    "    higherLow = middleIndex + 1\n",
    "    higherHigh = len(array)\n",
    "    if higherLow < higherHigh:\n",
    "        minimalTree_recursive(tree, array[higherLow:higherHigh])"
   ]
  },
  {
   "cell_type": "code",
   "execution_count": 104,
   "metadata": {
    "collapsed": false
   },
   "outputs": [
    {
     "name": "stderr",
     "output_type": "stream",
     "text": [
      ".\n",
      "----------------------------------------------------------------------\n",
      "Ran 1 test in 0.002s\n",
      "\n",
      "OK\n"
     ]
    },
    {
     "data": {
      "text/plain": [
       "<unittest.runner.TextTestResult run=1 errors=0 failures=0>"
      ]
     },
     "execution_count": 104,
     "metadata": {},
     "output_type": "execute_result"
    }
   ],
   "source": [
    "import unittest\n",
    "from math import log\n",
    "class TestMinimalTree(unittest.TestCase):\n",
    "    def setUp(self):\n",
    "        # array must be sorted in ascending order\n",
    "        self.array = [3,4,6,7,8,14]\n",
    "        \n",
    "    def test_minimalTree(self):\n",
    "        tree = minimalTree(self.array)\n",
    "        expectedMinHeight = round(log(len(self.array), 2))\n",
    "        self.assertEqual(tree.height(), expectedMinHeight)\n",
    "        \n",
    "testSuiteMinimalTree = unittest.TestLoader().loadTestsFromTestCase(TestMinimalTree)\n",
    "runner = unittest.TextTestRunner()\n",
    "runner.run(testSuiteMinimalTree)"
   ]
  },
  {
   "cell_type": "code",
   "execution_count": 105,
   "metadata": {
    "collapsed": true
   },
   "outputs": [],
   "source": [
    "class LinkedListNode:\n",
    "    def __init__(self, value):\n",
    "        self.value = value\n",
    "        self.nextNode = None\n",
    "    def getNextNode(self):\n",
    "        return self.nextNode\n",
    "    def setNextNode(self, node):\n",
    "        self.nextNode = node\n",
    "    def getValue(self):\n",
    "        return self.value\n",
    "    def setValue(self, value):\n",
    "        self.value = value\n",
    "        \n",
    "class LinkedList:\n",
    "    head = None\n",
    "    def __init__(self, values):\n",
    "        try:\n",
    "            for value in reversed(values):\n",
    "                self.add(value)\n",
    "        except TypeError:\n",
    "            if type(values) is LinkedListNode:\n",
    "                self.head = values\n",
    "            else:\n",
    "                self.head = LinkedListNode(values)\n",
    "    def add(self, data):\n",
    "        newNode = LinkedListNode(data)\n",
    "        newNode.setNextNode(self.head)\n",
    "        self.head = newNode\n",
    "    def get(self, index):\n",
    "        node = self.head\n",
    "        data = None\n",
    "        for i in range(index):\n",
    "            if node:\n",
    "                node = node.getNextNode()\n",
    "            else:\n",
    "                break\n",
    "        if node:\n",
    "            data = node.getValue()\n",
    "        return data\n",
    "    def print(self):\n",
    "        print(self.getList())\n",
    "    def length(self):\n",
    "        node = self.head\n",
    "        length = 0\n",
    "        while node:\n",
    "            length += 1\n",
    "            node = node.getNextNode()\n",
    "        return length\n",
    "    def getList(self):\n",
    "        node = self.head\n",
    "        nodes = []\n",
    "        while node is not None:\n",
    "            nodes.append(node.getValue())\n",
    "            node = node.getNextNode()\n",
    "        return nodes"
   ]
  },
  {
   "cell_type": "code",
   "execution_count": 106,
   "metadata": {
    "collapsed": false
   },
   "outputs": [],
   "source": [
    "# 4.3 List of Depths: Given a binary tree, design an algorithm which creates a linked list of all the nodes at each depth (e.g., if you have a tree with depth D, you'll have D linked lists)\n",
    "\n",
    "# breadth first search from root, add nodes at each level to linked lists\n",
    "\n",
    "def breadthFirstSearch_binary(tree):\n",
    "    nodesAtLevel = [tree.root]\n",
    "    while len(nodesAtLevel) > 0:\n",
    "        nodesAtNextLevel = []\n",
    "        yield nodesAtLevel\n",
    "        for node in nodesAtLevel:\n",
    "            if node:\n",
    "                leftChild = node.getLeftChild()\n",
    "                rightChild = node.getRightChild()\n",
    "                if leftChild:\n",
    "                    nodesAtNextLevel.append(leftChild)\n",
    "                if rightChild:\n",
    "                    nodesAtNextLevel.append(rightChild)\n",
    "            \n",
    "        nodesAtLevel = nodesAtNextLevel\n",
    "        \n",
    "def listOfDepths(tree):\n",
    "    listOfLists = []\n",
    "    for nodes in breadthFirstSearch_binary(tree):\n",
    "        listOfLists.append(LinkedList([n.getData() for n in nodes]))\n",
    "    return listOfLists"
   ]
  },
  {
   "cell_type": "code",
   "execution_count": 107,
   "metadata": {
    "collapsed": false
   },
   "outputs": [
    {
     "name": "stderr",
     "output_type": "stream",
     "text": [
      ".\n",
      "----------------------------------------------------------------------\n",
      "Ran 1 test in 0.001s\n",
      "\n",
      "OK\n"
     ]
    },
    {
     "data": {
      "text/plain": [
       "<unittest.runner.TextTestResult run=1 errors=0 failures=0>"
      ]
     },
     "execution_count": 107,
     "metadata": {},
     "output_type": "execute_result"
    }
   ],
   "source": [
    "import unittest\n",
    "from math import log\n",
    "from collections import Counter\n",
    "class TestListOfDepths(unittest.TestCase):\n",
    "    def setUp(self):\n",
    "        self.array = [7,4,14,3,6,8]\n",
    "        self.expectedArray = [[7],[4,14],[3,6,8]]\n",
    "        self.tree = BinaryTree()\n",
    "        for elem in self.array:\n",
    "            self.tree.add(elem)\n",
    "            \n",
    "    def test_listOfDepths(self):\n",
    "        lists = listOfDepths(self.tree)\n",
    "        lists = [l.getList() for l in lists]\n",
    "        for l, exp in zip(lists, self.expectedArray):\n",
    "            self.assertEqual(Counter(l), Counter(exp))\n",
    "        \n",
    "testSuiteListOfDepths = unittest.TestLoader().loadTestsFromTestCase(TestListOfDepths)\n",
    "runner = unittest.TextTestRunner()\n",
    "runner.run(testSuiteListOfDepths)"
   ]
  },
  {
   "cell_type": "code",
   "execution_count": 119,
   "metadata": {
    "collapsed": false
   },
   "outputs": [],
   "source": [
    "# 4.4 Check Balanced: Implement a function to check if a binary tree is balanced. For the purposes of the question, a balanced tree is defined to be a tree such that the heights of the two subtrees of any node never differ by more than one.\n",
    "\n",
    "# recursively compare heights of left and right subtrees \n",
    "# if difference is bigger than 1, false\n",
    "\n",
    "def checkBalanced(tree):\n",
    "    height, balanced = checkBalanced_recursive(tree.root)\n",
    "    return balanced\n",
    "# returns (height, balanced)\n",
    "def checkBalanced_recursive(node):\n",
    "    if not node:\n",
    "        return (0, True)\n",
    "    leftHeight, leftBalanced = checkBalanced_recursive(node.getLeftChild())\n",
    "    rightHeight, rightBalanced = checkBalanced_recursive(node.getRightChild())\n",
    "    balanced = leftBalanced and rightBalanced\n",
    "    if abs(leftHeight - rightHeight) > 1:\n",
    "        balanced = False\n",
    "    return (max(leftHeight, rightHeight) + 1, balanced)"
   ]
  },
  {
   "cell_type": "code",
   "execution_count": 120,
   "metadata": {
    "collapsed": false
   },
   "outputs": [
    {
     "name": "stderr",
     "output_type": "stream",
     "text": [
      ".\n",
      "----------------------------------------------------------------------\n",
      "Ran 1 test in 0.003s\n",
      "\n",
      "OK\n"
     ]
    },
    {
     "data": {
      "text/plain": [
       "<unittest.runner.TextTestResult run=1 errors=0 failures=0>"
      ]
     },
     "execution_count": 120,
     "metadata": {},
     "output_type": "execute_result"
    }
   ],
   "source": [
    "import unittest\n",
    "class TestCheckBalanced(unittest.TestCase):\n",
    "    def setUp(self):\n",
    "        self.array = [7,4,14,3,6,8]\n",
    "        self.expectedArray = [[7],[4,14],[3,6,8]]\n",
    "        self.tree = BinaryTree()\n",
    "        for elem in self.array:\n",
    "            self.tree.add(elem)\n",
    "            \n",
    "    def test_checkBalanced(self):\n",
    "        self.assertTrue(checkBalanced(self.tree))\n",
    "        self.tree.add(1)\n",
    "        self.tree.add(0)\n",
    "        self.assertFalse(checkBalanced(self.tree))\n",
    "        \n",
    "testSuiteCheckBalanced = unittest.TestLoader().loadTestsFromTestCase(TestCheckBalanced)\n",
    "runner = unittest.TextTestRunner()\n",
    "runner.run(testSuiteCheckBalanced)"
   ]
  },
  {
   "cell_type": "code",
   "execution_count": 129,
   "metadata": {
    "collapsed": false
   },
   "outputs": [],
   "source": [
    "# 4.5 Validate BST: Implement a function to check if a binary tree is a binary search tree.\n",
    "\n",
    "# check if max of left subtree is less than or equal to current node's data and min of right subtree is bigger than current n\n",
    "# recursively check for left and right\n",
    "# return whether valid bst, min and max of tree\n",
    "\n",
    "def validateBST(tree):\n",
    "    valid, minimum, maximum = validateBST_recursive(tree.root)\n",
    "    return valid\n",
    "def validateBST_recursive(node):\n",
    "    if not node:\n",
    "        return (True, None, None)\n",
    "    leftValidBST, leftMin, leftMax = validateBST_recursive(node.getLeftChild())\n",
    "    rightValidBST, rightMin, rightMax = validateBST_recursive(node.getRightChild())\n",
    "    valid = True\n",
    "    \n",
    "    minimum = leftMin\n",
    "    if leftMin is None:\n",
    "        minimum = node.getData()\n",
    "    maximum = rightMax\n",
    "    if rightMax is None:\n",
    "        maximum = node.getData()\n",
    "    if leftMax is not None:\n",
    "        if leftMax > node.getData():\n",
    "            valid = False\n",
    "    if rightMin is not None:\n",
    "        if rightMin < node.getData():\n",
    "            valid = False\n",
    "            \n",
    "    return (valid, minimum, maximum)"
   ]
  },
  {
   "cell_type": "code",
   "execution_count": 130,
   "metadata": {
    "collapsed": false
   },
   "outputs": [
    {
     "name": "stderr",
     "output_type": "stream",
     "text": [
      ".\n",
      "----------------------------------------------------------------------\n",
      "Ran 1 test in 0.003s\n",
      "\n",
      "OK\n"
     ]
    },
    {
     "data": {
      "text/plain": [
       "<unittest.runner.TextTestResult run=1 errors=0 failures=0>"
      ]
     },
     "execution_count": 130,
     "metadata": {},
     "output_type": "execute_result"
    }
   ],
   "source": [
    "import unittest\n",
    "class TestValidateBST(unittest.TestCase):\n",
    "    def setUp(self):\n",
    "        self.array = [7,4,14,3,6,8]\n",
    "        self.tree = BinaryTree()\n",
    "        for elem in self.array:\n",
    "            self.tree.add(elem)\n",
    "            \n",
    "    def test_validateBST(self):\n",
    "        self.assertTrue(validateBST(self.tree))\n",
    "        node = self.tree.root\n",
    "        while node.getRightChild():\n",
    "            node = node.getRightChild()\n",
    "        newNode = BinaryTreeNode(0)\n",
    "        node.setLeftChild(newNode)\n",
    "        self.assertFalse(validateBST(self.tree))\n",
    "        \n",
    "testSuiteValidateBST = unittest.TestLoader().loadTestsFromTestCase(TestValidateBST)\n",
    "runner = unittest.TextTestRunner()\n",
    "runner.run(testSuiteValidateBST)"
   ]
  },
  {
   "cell_type": "code",
   "execution_count": 150,
   "metadata": {
    "collapsed": false
   },
   "outputs": [],
   "source": [
    "# 4.6 Successor: Write an algorithm to find the \"next\" node (i.e., in-order successor) of a given node in a binary search tree. You may assume that each node has a link to its parent.\n",
    "\n",
    "# next one should be left most node in right subtree\n",
    "# if right child is null, can also look at left most node of parent's parent's right subtree\n",
    "# the second case only works if the node's parent is the left child of the node's grandparent\n",
    "\n",
    "def successor(node):\n",
    "    rightChild = node.getRightChild()\n",
    "    successorNode = None\n",
    "    if rightChild:\n",
    "        node = rightChild\n",
    "        while node.getLeftChild():\n",
    "            node = node.getLeftChild()\n",
    "        successorNode = node\n",
    "    else:\n",
    "        parent = node.getParent()\n",
    "        if parent:\n",
    "            if parent.getLeftChild() == node:\n",
    "                successorNode = parent\n",
    "            else:\n",
    "                grandparent = parent.getParent()\n",
    "                if grandparent and grandparent.getLeftChild() == parent:\n",
    "                    node = grandparent.getRightChild()\n",
    "                    while node.getLeftChild():\n",
    "                        node = node.getLeftChild()\n",
    "                    successorNode = node\n",
    "    return successorNode"
   ]
  },
  {
   "cell_type": "code",
   "execution_count": 151,
   "metadata": {
    "collapsed": false
   },
   "outputs": [
    {
     "name": "stderr",
     "output_type": "stream",
     "text": [
      ".\n",
      "----------------------------------------------------------------------\n",
      "Ran 1 test in 0.003s\n",
      "\n",
      "OK\n"
     ]
    },
    {
     "data": {
      "text/plain": [
       "<unittest.runner.TextTestResult run=1 errors=0 failures=0>"
      ]
     },
     "execution_count": 151,
     "metadata": {},
     "output_type": "execute_result"
    }
   ],
   "source": [
    "import unittest\n",
    "class TestSuccessor(unittest.TestCase):\n",
    "    def setUp(self):\n",
    "        self.array = [7,4,14,3,6,8]\n",
    "        self.tree = BinaryTree()\n",
    "        for elem in self.array:\n",
    "            self.tree.add(elem)\n",
    "            \n",
    "    def test_successor(self):\n",
    "        node = self.tree.root\n",
    "        self.assertEqual(successor(node).getData(), 8)\n",
    "        node = node.getLeftChild()\n",
    "        self.assertEqual(successor(node).getData(), 6)\n",
    "        node = node.getLeftChild()\n",
    "        self.assertEqual(successor(node).getData(), 4)\n",
    "        node = node.getParent().getRightChild()\n",
    "        self.assertEqual(successor(node).getData(), 8)\n",
    "        \n",
    "testSuiteSuccessor = unittest.TestLoader().loadTestsFromTestCase(TestSuccessor)\n",
    "runner = unittest.TextTestRunner()\n",
    "runner.run(testSuiteSuccessor)"
   ]
  },
  {
   "cell_type": "code",
   "execution_count": 180,
   "metadata": {
    "collapsed": false
   },
   "outputs": [],
   "source": [
    "# 4.7 Build Order: You are given a list of projects and a list of dependencies (which is a list of pairs of projects, where the first project is dependent on the second project). All of a project's dependecies must be built before the project is. Find a build order that will allow the projects to be built. If there is no valid build order, return an error.\n",
    "\n",
    "# Example \n",
    "# Input: \n",
    "# projects: a,b,c,d,e,f\n",
    "# dependencies: (d,a), (b,f), (d,b), (a,f), (c,d)\n",
    "# Output: f,e,a,b,d,c\n",
    "\n",
    "# topological sort\n",
    "# source: https://en.wikipedia.org/wiki/Topological_sorting\n",
    "# Kahn's algorithm\n",
    "# set S of nodes with no incoming edges\n",
    "# array L empty to contain nodes in topological order\n",
    "# while S is not empty\n",
    "#    remove node n from S and add it to end of L\n",
    "#    for each edge from node n to node m\n",
    "#        remove edge from graph\n",
    "#        if node m has no incoming edges, add to S\n",
    "# if graph still has edges\n",
    "#    graph has at least one cycle\n",
    "# else\n",
    "#    return L (topologically sorted)\n",
    "\n",
    "def topologicalSort(graph):\n",
    "    sortedNodes = []\n",
    "    \n",
    "    edges = graph.edges()\n",
    "    sourceNodes = graph.nodes()\n",
    "    for _, target in edges:\n",
    "        try:\n",
    "            sourceNodes.remove(target)\n",
    "        except ValueError:\n",
    "            pass\n",
    "    while len(sourceNodes) > 0:\n",
    "        node = sourceNodes.pop()\n",
    "        sortedNodes.append(node)\n",
    "        edgesFromNode = graph.edges(node)\n",
    "        for edge in edgesFromNode:\n",
    "            _, target = edge\n",
    "            graph.removeEdge(edge)\n",
    "            edges = graph.edges()\n",
    "            targetHasIncomingEdges = False\n",
    "            for _, tempTarget in edges:\n",
    "                if tempTarget == target:\n",
    "                    targetHasIncomingEdges = True\n",
    "                    break\n",
    "            if not targetHasIncomingEdges:\n",
    "                sourceNodes.append(target)\n",
    "    edges = graph.edges()\n",
    "    if len(edges) > 0:\n",
    "        raise ValueError('graph has at least one cycle')\n",
    "    else:\n",
    "        return sortedNodes\n",
    "\n",
    "def buildOrder(projects, dependencies):\n",
    "    graph = Graph(dependencies, directed=True)\n",
    "    sortedNodes = topologicalSort(graph)\n",
    "    for project in projects:\n",
    "        if project not in sortedNodes:\n",
    "            sortedNodes.append(project)\n",
    "            #independent projects can be started immediately\n",
    "    return list(reversed(sortedNodes))"
   ]
  },
  {
   "cell_type": "code",
   "execution_count": 181,
   "metadata": {
    "collapsed": false
   },
   "outputs": [
    {
     "name": "stderr",
     "output_type": "stream",
     "text": [
      ".\n",
      "----------------------------------------------------------------------\n",
      "Ran 1 test in 0.003s\n",
      "\n",
      "OK\n"
     ]
    },
    {
     "data": {
      "text/plain": [
       "<unittest.runner.TextTestResult run=1 errors=0 failures=0>"
      ]
     },
     "execution_count": 181,
     "metadata": {},
     "output_type": "execute_result"
    }
   ],
   "source": [
    "import unittest\n",
    "class TestBuildOrder(unittest.TestCase):\n",
    "    def setUp(self):\n",
    "        self.dependencies = [('d','a'), ('b','f'), ('d','b'), ('a','f'), ('c','d')]\n",
    "        self.projects = ['a','b','c','d','e','f']    \n",
    "    def test_buildOrder(self):\n",
    "        sortedProjects = buildOrder(self.projects, self.dependencies)\n",
    "        for dependency in dependencies:\n",
    "            dependent, independent = dependency\n",
    "            indexOfDependent = sortedProjects.index(dependent)\n",
    "            indexOfIndependent = sortedProjects.index(independent)\n",
    "            self.assertTrue(indexOfIndependent < indexOfDependent)\n",
    "        for project in self.projects:\n",
    "            self.assertTrue(project in sortedProjects)\n",
    "        \n",
    "testSuiteBuildOrder = unittest.TestLoader().loadTestsFromTestCase(TestBuildOrder)\n",
    "runner = unittest.TextTestRunner()\n",
    "runner.run(testSuiteBuildOrder)"
   ]
  },
  {
   "cell_type": "code",
   "execution_count": 211,
   "metadata": {
    "collapsed": false
   },
   "outputs": [],
   "source": [
    "# 4.8 First Common Ancestor: Design an algorithm and write code to find the first common ancestor of two nodes in a binary tree. Avoid storing additional nodes in a data structure. NOTE: This is not necessarily a binary search tree.\n",
    "\n",
    "# if nodes have pointers to parents, this problem would be the same as a previous problem to find the intersection of two linked lists\n",
    "# let's do this without pointers to parents\n",
    "# search binary tree for node1 and node2\n",
    "# if node1 and node2 are in different subtrees at a single node, that node is the common ancestor\n",
    "# return node1 if node1 is contained in subtree\n",
    "# return node2 if node2 is contained in subtree\n",
    "# return commonAncestor if node1 and node 2 are in different subtrees or if subtree has commonAncestor\n",
    "# return None if subtree doesn't have node1, node2, or the common ancestor\n",
    "\n",
    "def firstCommonAncestor(tree, node1, node2):\n",
    "    node, ancestorFound = firstCommonAncestor_recursive(tree.root, node1, node2)\n",
    "    if ancestorFound:\n",
    "        return node\n",
    "    else:\n",
    "        return None\n",
    "\n",
    "def firstCommonAncestor_recursive(currentNode, node1, node2):\n",
    "    if currentNode is None:\n",
    "        return (None, False)\n",
    "    data = currentNode.getData()\n",
    "    leftResult, ancestorFoundLeft = firstCommonAncestor_recursive(currentNode.getLeftChild(), node1, node2)\n",
    "    rightResult, ancestorFoundRight = firstCommonAncestor_recursive(currentNode.getRightChild(), node1, node2)\n",
    "    \n",
    "    if ancestorFoundRight:\n",
    "        #ancestor found from right\n",
    "        return (rightResult, True)\n",
    "    if ancestorFoundLeft:\n",
    "        return (leftResult, True)\n",
    "    \n",
    "    node1Found = data == node1 or leftResult == node1 or rightResult == node2\n",
    "    node2Found = data == node2 or leftResult == node2 or rightResult == node2\n",
    "    \n",
    "    if node1Found and node2Found:\n",
    "        return (data, True)\n",
    "    if node1Found:\n",
    "        return (node1, False)\n",
    "    if node2Found:\n",
    "        return (node2, False)\n",
    "    return (None, False)"
   ]
  },
  {
   "cell_type": "code",
   "execution_count": 214,
   "metadata": {
    "collapsed": false
   },
   "outputs": [
    {
     "name": "stderr",
     "output_type": "stream",
     "text": [
      ".\n",
      "----------------------------------------------------------------------\n",
      "Ran 1 test in 0.003s\n",
      "\n",
      "OK\n"
     ]
    },
    {
     "data": {
      "text/plain": [
       "<unittest.runner.TextTestResult run=1 errors=0 failures=0>"
      ]
     },
     "execution_count": 214,
     "metadata": {},
     "output_type": "execute_result"
    }
   ],
   "source": [
    "import unittest\n",
    "class TestFirstCommonAncestor(unittest.TestCase):\n",
    "    def setUp(self):\n",
    "        self.array = [7,4,14,3,6,8]\n",
    "        self.tree = BinaryTree()\n",
    "        for elem in self.array:\n",
    "            self.tree.add(elem)\n",
    "            \n",
    "    def test_firstCommonAncestor(self):\n",
    "        self.assertEqual(firstCommonAncestor(self.tree, 3, 6), 4)\n",
    "        self.assertEqual(firstCommonAncestor(self.tree, 3, 4), 4)\n",
    "        self.assertEqual(firstCommonAncestor(self.tree, 6, 8), 7)\n",
    "        self.assertTrue(firstCommonAncestor(self.tree, 16, 7) is None)\n",
    "        \n",
    "testSuiteFirstCommonAncestor = unittest.TestLoader().loadTestsFromTestCase(TestFirstCommonAncestor)\n",
    "runner = unittest.TextTestRunner()\n",
    "runner.run(testSuiteFirstCommonAncestor)"
   ]
  },
  {
   "cell_type": "code",
   "execution_count": 210,
   "metadata": {
    "collapsed": false
   },
   "outputs": [
    {
     "name": "stderr",
     "output_type": "stream",
     "text": [
      "..........................\n",
      "----------------------------------------------------------------------\n",
      "Ran 26 tests in 0.052s\n",
      "\n",
      "OK\n"
     ]
    },
    {
     "data": {
      "text/plain": [
       "<unittest.runner.TextTestResult run=26 errors=0 failures=0>"
      ]
     },
     "execution_count": 210,
     "metadata": {},
     "output_type": "execute_result"
    }
   ],
   "source": [
    "# source: https://stackoverflow.com/questions/1732438/how-do-i-run-all-python-unit-tests-in-a-directory\n",
    "testmodules = [\n",
    "    TestGraph,\n",
    "    TestSearch,\n",
    "    TestRouteBetweenNodes, \n",
    "    TestBinaryTreeNode,\n",
    "    TestBinaryTree,\n",
    "    TestMinimalTree,\n",
    "    TestListOfDepths,\n",
    "    TestCheckBalanced,\n",
    "    TestValidateBST,\n",
    "    TestSuccessor,\n",
    "    TestBuildOrder,\n",
    "    TestFirstCommonAncestor\n",
    "    ]\n",
    "\n",
    "suite = unittest.TestSuite()\n",
    "\n",
    "for t in testmodules:\n",
    "    suite.addTest(unittest.TestLoader().loadTestsFromTestCase(t))\n",
    "\n",
    "unittest.TextTestRunner().run(suite)"
   ]
  },
  {
   "cell_type": "code",
   "execution_count": null,
   "metadata": {
    "collapsed": true
   },
   "outputs": [],
   "source": []
  }
 ],
 "metadata": {
  "kernelspec": {
   "display_name": "Python 3",
   "language": "python",
   "name": "python3"
  },
  "language_info": {
   "codemirror_mode": {
    "name": "ipython",
    "version": 3
   },
   "file_extension": ".py",
   "mimetype": "text/x-python",
   "name": "python",
   "nbconvert_exporter": "python",
   "pygments_lexer": "ipython3",
   "version": "3.6.0"
  }
 },
 "nbformat": 4,
 "nbformat_minor": 2
}

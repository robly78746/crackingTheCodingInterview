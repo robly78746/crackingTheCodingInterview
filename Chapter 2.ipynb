{
 "cells": [
  {
   "cell_type": "code",
   "execution_count": 80,
   "metadata": {
    "collapsed": false
   },
   "outputs": [],
   "source": [
    "class LinkedListNode:\n",
    "    def __init__(self, value):\n",
    "        self.value = value\n",
    "        self.nextNode = None\n",
    "    def getNextNode(self):\n",
    "        return self.nextNode\n",
    "    def setNextNode(self, node):\n",
    "        self.nextNode = node\n",
    "    def getValue(self):\n",
    "        return self.value\n",
    "class LinkedList:\n",
    "    head = None\n",
    "    def __init__(self, values):\n",
    "        try:\n",
    "            for value in reversed(values):\n",
    "                self.addNode(LinkedListNode(value))\n",
    "        except TypeError:\n",
    "            self.head = LinkedListNode(values)\n",
    "    def addNode(self, node):\n",
    "        node.setNextNode(self.head)\n",
    "        self.head = node\n",
    "    def print(self):\n",
    "        print(self.getList())\n",
    "        \n",
    "    def getList(self):\n",
    "        node = self.head\n",
    "        nodes = []\n",
    "        while node is not None:\n",
    "            nodes.append(node.getValue())\n",
    "            node = node.getNextNode()\n",
    "        return nodes"
   ]
  },
  {
   "cell_type": "code",
   "execution_count": 97,
   "metadata": {
    "collapsed": false
   },
   "outputs": [],
   "source": [
    "# 2.1 Remove Dups: Write code to remove duplicates from an unsorted linked list.\n",
    "# Follow Up: How would you solve this problem if a temporary buffer is not allowed?\n",
    "\n",
    "# traverse linked list, storing values seen in hash set\n",
    "# if a duplicate is encountered, remove it\n",
    "\n",
    "def removeDups(linkedList):\n",
    "    node = linkedList.head\n",
    "    nodesSeen = set()\n",
    "    prevNode = node\n",
    "    while node:\n",
    "        if node.getValue() in nodesSeen:\n",
    "            #remove\n",
    "            prevNode.setNextNode(node.getNextNode())\n",
    "        else:\n",
    "            nodesSeen.add(node.value)\n",
    "            prevNode = node\n",
    "        node = node.getNextNode()\n",
    "    return linkedList\n",
    "\n",
    "def removeDups_noDS(linkedList):\n",
    "    currentNode = linkedList.head\n",
    "    \n",
    "    while currentNode:\n",
    "        runner = currentNode.getNextNode()\n",
    "        prevNode = currentNode\n",
    "        while runner:\n",
    "            if currentNode.getValue() == runner.getValue():\n",
    "                #remove runner\n",
    "                prevNode.setNextNode(runner.getNextNode())\n",
    "            else:\n",
    "                prevNode = runner\n",
    "            runner = runner.getNextNode()\n",
    "        currentNode = currentNode.getNextNode()\n",
    "    return linkedList"
   ]
  },
  {
   "cell_type": "code",
   "execution_count": 98,
   "metadata": {
    "collapsed": false
   },
   "outputs": [
    {
     "name": "stderr",
     "output_type": "stream",
     "text": [
      "..\n",
      "----------------------------------------------------------------------\n",
      "Ran 2 tests in 0.005s\n",
      "\n",
      "OK\n"
     ]
    },
    {
     "data": {
      "text/plain": [
       "<unittest.runner.TextTestResult run=2 errors=0 failures=0>"
      ]
     },
     "execution_count": 98,
     "metadata": {},
     "output_type": "execute_result"
    }
   ],
   "source": [
    "import unittest\n",
    "class TestRemoveDups(unittest.TestCase):\n",
    "    def setUp(self):\n",
    "        self.input = [[1,2,3,4,5,5],[1,2,3]]\n",
    "        self.expected = [[1,2,3,4,5],[1,2,3]]\n",
    "        self.linkedLists = []\n",
    "        for inp in self.input:\n",
    "            self.linkedLists.append(LinkedList(inp))\n",
    "        \n",
    "            \n",
    "    def test_removeDups(self):\n",
    "        for linkedList, exp in zip(self.linkedLists, self.expected):\n",
    "            uniqueList = removeDups(linkedList)\n",
    "            self.assertEqual(uniqueList.getList(), exp)\n",
    "            \n",
    "    def test_removeDups_noDS(self):\n",
    "        for linkedList, exp in zip(self.linkedLists, self.expected):\n",
    "            uniqueList = removeDups_noDS(linkedList)\n",
    "            self.assertEqual(uniqueList.getList(), exp)\n",
    "            \n",
    "testSuiteRemoveDups = unittest.TestLoader().loadTestsFromTestCase(TestRemoveDups)\n",
    "runner = unittest.TextTestRunner()\n",
    "runner.run(testSuiteRemoveDups)"
   ]
  },
  {
   "cell_type": "code",
   "execution_count": 99,
   "metadata": {
    "collapsed": false
   },
   "outputs": [
    {
     "name": "stderr",
     "output_type": "stream",
     "text": [
      "..\n",
      "----------------------------------------------------------------------\n",
      "Ran 2 tests in 0.005s\n",
      "\n",
      "OK\n"
     ]
    },
    {
     "data": {
      "text/plain": [
       "<unittest.runner.TextTestResult run=2 errors=0 failures=0>"
      ]
     },
     "execution_count": 99,
     "metadata": {},
     "output_type": "execute_result"
    }
   ],
   "source": [
    "# source: https://stackoverflow.com/questions/1732438/how-do-i-run-all-python-unit-tests-in-a-directory\n",
    "testmodules = [\n",
    "    TestRemoveDups\n",
    "    ]\n",
    "\n",
    "suite = unittest.TestSuite()\n",
    "\n",
    "for t in testmodules:\n",
    "    suite.addTest(unittest.TestLoader().loadTestsFromTestCase(t))\n",
    "\n",
    "unittest.TextTestRunner().run(suite)"
   ]
  },
  {
   "cell_type": "code",
   "execution_count": null,
   "metadata": {
    "collapsed": true
   },
   "outputs": [],
   "source": []
  }
 ],
 "metadata": {
  "kernelspec": {
   "display_name": "Python 3",
   "language": "python",
   "name": "python3"
  },
  "language_info": {
   "codemirror_mode": {
    "name": "ipython",
    "version": 3
   },
   "file_extension": ".py",
   "mimetype": "text/x-python",
   "name": "python",
   "nbconvert_exporter": "python",
   "pygments_lexer": "ipython3",
   "version": "3.6.0"
  }
 },
 "nbformat": 4,
 "nbformat_minor": 2
}

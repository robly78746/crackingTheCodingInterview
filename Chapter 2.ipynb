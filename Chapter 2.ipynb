{
 "cells": [
  {
   "cell_type": "code",
   "execution_count": 165,
   "metadata": {
    "collapsed": false
   },
   "outputs": [],
   "source": [
    "class LinkedListNode:\n",
    "    def __init__(self, value):\n",
    "        self.value = value\n",
    "        self.nextNode = None\n",
    "    def getNextNode(self):\n",
    "        return self.nextNode\n",
    "    def setNextNode(self, node):\n",
    "        self.nextNode = node\n",
    "    def getValue(self):\n",
    "        return self.value\n",
    "    def setValue(self, value):\n",
    "        self.value = value\n",
    "class LinkedList:\n",
    "    head = None\n",
    "    def __init__(self, values):\n",
    "        try:\n",
    "            for value in reversed(values):\n",
    "                self.addNode(LinkedListNode(value))\n",
    "        except TypeError:\n",
    "            if type(values) is LinkedListNode:\n",
    "                self.head = values\n",
    "            else:\n",
    "                self.head = LinkedListNode(values)\n",
    "    def addNode(self, node):\n",
    "        node.setNextNode(self.head)\n",
    "        self.head = node\n",
    "    def getNode(self, index):\n",
    "        node = self.head\n",
    "        for i in range(index):\n",
    "            if node:\n",
    "                node = node.getNextNode()\n",
    "            else:\n",
    "                return None\n",
    "        return node\n",
    "    def print(self):\n",
    "        print(self.getList())\n",
    "    def length(self):\n",
    "        node = self.head\n",
    "        length = 0\n",
    "        while node:\n",
    "            length += 1\n",
    "            node = node.getNextNode()\n",
    "        return length\n",
    "    def getList(self):\n",
    "        node = self.head\n",
    "        nodes = []\n",
    "        while node is not None:\n",
    "            nodes.append(node.getValue())\n",
    "            node = node.getNextNode()\n",
    "        return nodes"
   ]
  },
  {
   "cell_type": "code",
   "execution_count": 97,
   "metadata": {
    "collapsed": false
   },
   "outputs": [],
   "source": [
    "# 2.1 Remove Dups: Write code to remove duplicates from an unsorted linked list.\n",
    "# Follow Up: How would you solve this problem if a temporary buffer is not allowed?\n",
    "\n",
    "# traverse linked list, storing values seen in hash set\n",
    "# if a duplicate is encountered, remove it\n",
    "# time complexity: O(n)\n",
    "# space complexity: O(n)\n",
    "\n",
    "def removeDups(linkedList):\n",
    "    node = linkedList.head\n",
    "    nodesSeen = set()\n",
    "    prevNode = node\n",
    "    while node:\n",
    "        if node.getValue() in nodesSeen:\n",
    "            #remove\n",
    "            prevNode.setNextNode(node.getNextNode())\n",
    "        else:\n",
    "            nodesSeen.add(node.value)\n",
    "            prevNode = node\n",
    "        node = node.getNextNode()\n",
    "    return linkedList\n",
    "\n",
    "# without data structures, use two pointers\n",
    "# advance one for each element in list\n",
    "# advanced the other forward from current to end to remove duplicates\n",
    "# time complexity: O(n^2)\n",
    "# space complexity: O(1)\n",
    "\n",
    "def removeDups_noDS(linkedList):\n",
    "    currentNode = linkedList.head\n",
    "    \n",
    "    while currentNode:\n",
    "        runner = currentNode.getNextNode()\n",
    "        prevNode = currentNode\n",
    "        while runner:\n",
    "            if currentNode.getValue() == runner.getValue():\n",
    "                #remove runner\n",
    "                prevNode.setNextNode(runner.getNextNode())\n",
    "            else:\n",
    "                prevNode = runner\n",
    "            runner = runner.getNextNode()\n",
    "        currentNode = currentNode.getNextNode()\n",
    "    return linkedList"
   ]
  },
  {
   "cell_type": "code",
   "execution_count": 98,
   "metadata": {
    "collapsed": false
   },
   "outputs": [
    {
     "name": "stderr",
     "output_type": "stream",
     "text": [
      "..\n",
      "----------------------------------------------------------------------\n",
      "Ran 2 tests in 0.005s\n",
      "\n",
      "OK\n"
     ]
    },
    {
     "data": {
      "text/plain": [
       "<unittest.runner.TextTestResult run=2 errors=0 failures=0>"
      ]
     },
     "execution_count": 98,
     "metadata": {},
     "output_type": "execute_result"
    }
   ],
   "source": [
    "import unittest\n",
    "class TestRemoveDups(unittest.TestCase):\n",
    "    def setUp(self):\n",
    "        self.input = [[1,2,3,4,5,5],[1,2,3]]\n",
    "        self.expected = [[1,2,3,4,5],[1,2,3]]\n",
    "        self.linkedLists = []\n",
    "        for inp in self.input:\n",
    "            self.linkedLists.append(LinkedList(inp))\n",
    "        \n",
    "            \n",
    "    def test_removeDups(self):\n",
    "        for linkedList, exp in zip(self.linkedLists, self.expected):\n",
    "            uniqueList = removeDups(linkedList)\n",
    "            self.assertEqual(uniqueList.getList(), exp)\n",
    "            \n",
    "    def test_removeDups_noDS(self):\n",
    "        for linkedList, exp in zip(self.linkedLists, self.expected):\n",
    "            uniqueList = removeDups_noDS(linkedList)\n",
    "            self.assertEqual(uniqueList.getList(), exp)\n",
    "            \n",
    "testSuiteRemoveDups = unittest.TestLoader().loadTestsFromTestCase(TestRemoveDups)\n",
    "runner = unittest.TextTestRunner()\n",
    "runner.run(testSuiteRemoveDups)"
   ]
  },
  {
   "cell_type": "code",
   "execution_count": 119,
   "metadata": {
    "collapsed": false
   },
   "outputs": [],
   "source": [
    "# 2.2 Return Kth to Last: Implement an algorithm to find the kth to last element of a singly linked list.\n",
    "\n",
    "# use two points k elements apart\n",
    "# first advance one pointer to k elements ahead of the other\n",
    "# if the advanced pointer hits the end of the list before getting k elements ahead, list is too short\n",
    "# advance both pointers until the advanced hits the end\n",
    "# the other pointer should be at the kth to last element, so return it\n",
    "# time complexity: O(n)\n",
    "# space complexity: O(1)\n",
    "\n",
    "def kthToLast(linkedList, k):\n",
    "    kthToLastPointer = linkedList.head\n",
    "    advancedPointer = linkedList.head\n",
    "    for i in range(k):\n",
    "        if not kthToLastPointer:\n",
    "            return None\n",
    "        kthToLastPointer = kthToLastPointer.getNextNode()\n",
    "        \n",
    "    while kthToLastPointer:\n",
    "        kthToLastPointer = kthToLastPointer.getNextNode()\n",
    "        advancedPointer = advancedPointer.getNextNode()\n",
    "    return advancedPointer"
   ]
  },
  {
   "cell_type": "code",
   "execution_count": 120,
   "metadata": {
    "collapsed": false
   },
   "outputs": [
    {
     "name": "stderr",
     "output_type": "stream",
     "text": [
      ".\n",
      "----------------------------------------------------------------------\n",
      "Ran 1 test in 0.003s\n",
      "\n",
      "OK\n"
     ]
    },
    {
     "data": {
      "text/plain": [
       "<unittest.runner.TextTestResult run=1 errors=0 failures=0>"
      ]
     },
     "execution_count": 120,
     "metadata": {},
     "output_type": "execute_result"
    }
   ],
   "source": [
    "import unittest\n",
    "class TestKthToLast(unittest.TestCase):\n",
    "    def setUp(self):\n",
    "        self.input = [[1,2,3,4,5,5],[1,6,5]]\n",
    "        self.ks = [3,1]\n",
    "        self.expected = [4,5]\n",
    "        self.linkedLists = []\n",
    "        for inp in self.input:\n",
    "            self.linkedLists.append(LinkedList(inp))\n",
    "        \n",
    "            \n",
    "    def test_kthToLast(self):\n",
    "        for linkedList, k, exp in zip(self.linkedLists, self.ks, self.expected):\n",
    "            node = kthToLast(linkedList, k)\n",
    "            self.assertEqual(node.getValue(), exp)\n",
    "            \n",
    "testSuiteKthToLast = unittest.TestLoader().loadTestsFromTestCase(TestKthToLast)\n",
    "runner = unittest.TextTestRunner()\n",
    "runner.run(testSuiteKthToLast)"
   ]
  },
  {
   "cell_type": "code",
   "execution_count": 129,
   "metadata": {
    "collapsed": false
   },
   "outputs": [],
   "source": [
    "# 2.3 Delete Middle Node: Implement an algorithm to delete a node in the middle (i.e., any node but the first and last node, not necessarily the exact middle) of a singly linked list, given only access to that node.\n",
    "# Example: \n",
    "# Input: the node c from the linked list a->b->c->d->e->f\n",
    "# Result: nothing is returned, but the new linked list looks like a->b->d->e->f\n",
    "\n",
    "# copy over next node's data to current and delete next node by pointing current to the next node's next node\n",
    "# time complexity: O(1)\n",
    "# space complexity: O(1)\n",
    "\n",
    "def deleteMiddleNode(node):\n",
    "    nextNode = node.getNextNode()\n",
    "    if nextNode:\n",
    "        node.setValue(nextNode.getValue())\n",
    "        node.setNextNode(nextNode.getNextNode())"
   ]
  },
  {
   "cell_type": "code",
   "execution_count": 130,
   "metadata": {
    "collapsed": false
   },
   "outputs": [
    {
     "name": "stderr",
     "output_type": "stream",
     "text": [
      ".\n",
      "----------------------------------------------------------------------\n",
      "Ran 1 test in 0.002s\n",
      "\n",
      "OK\n"
     ]
    },
    {
     "data": {
      "text/plain": [
       "<unittest.runner.TextTestResult run=1 errors=0 failures=0>"
      ]
     },
     "execution_count": 130,
     "metadata": {},
     "output_type": "execute_result"
    }
   ],
   "source": [
    "import unittest\n",
    "class TestDeleteMiddleNode(unittest.TestCase):\n",
    "    def setUp(self):\n",
    "        self.input = [[1,2,3,4,5,5],[1,6,5]]\n",
    "        self.indices = [2,1]\n",
    "        self.expected = [[1,2,4,5,5],[1,5]]\n",
    "        self.linkedLists = []\n",
    "        for inp in self.input:\n",
    "            self.linkedLists.append(LinkedList(inp))\n",
    "        \n",
    "            \n",
    "    def test_deleteMiddleNode(self):\n",
    "        for linkedList, index, exp in zip(self.linkedLists, self.indices, self.expected):\n",
    "            node = linkedList.getNode(index)\n",
    "            deleteMiddleNode(node)\n",
    "            self.assertEqual(linkedList.getList(), exp)\n",
    "            \n",
    "testSuiteDeleteMiddleNode = unittest.TestLoader().loadTestsFromTestCase(TestDeleteMiddleNode)\n",
    "runner = unittest.TextTestRunner()\n",
    "runner.run(testSuiteDeleteMiddleNode)"
   ]
  },
  {
   "cell_type": "code",
   "execution_count": 155,
   "metadata": {
    "collapsed": false
   },
   "outputs": [],
   "source": [
    "# 2.4 Partition: Write code to partition a linked list around a value x, such that all nodes less than x come before all nodes greater than or equal to x. If x is contained withing the list, the values of x only need to be after the elements less than x (see below). The partition element x can appear anywhere in the \"right partition\"; it does not need to appear between the left and right partitions.\n",
    "# Example\n",
    "# Input: 3->5->8->5->10->2->1 [partition = 5]\n",
    "# Output: 3->1->2->10->5->5->8\n",
    "\n",
    "# keep track of beginning and end of left partition and beginning and end of right partition \n",
    "# add segments of linked list to end of left partition and end of right partition\n",
    "# after iterating through connect left partition to right partition\n",
    "# time complexity: O(n)\n",
    "# space complexity: O(1)\n",
    "\n",
    "def partition(linkedList, n):\n",
    "    leftPartitionStart = None\n",
    "    leftPartitionEnd = None\n",
    "    rightPartitionStart = None\n",
    "    rightPartitionEnd = None\n",
    "    \n",
    "    node = linkedList.head\n",
    "    while node:\n",
    "        endOfListToAdd = node\n",
    "        if node.getValue() < n:\n",
    "            #look for next node that is bigger than or equal to n\n",
    "            #add to left partition\n",
    "            while endOfListToAdd and endOfListToAdd.getNextNode() and endOfListToAdd.getNextNode().getValue() < n:\n",
    "                endOfListToAdd = endOfListToAdd.getNextNode()\n",
    "            if not leftPartitionStart:\n",
    "                leftPartitionStart = node\n",
    "            if leftPartitionEnd:\n",
    "                leftPartitionEnd.setNextNode(node)\n",
    "            leftPartitionEnd = endOfListToAdd\n",
    "        else:\n",
    "            #look for next node that is less than n\n",
    "            #add list to partition\n",
    "            while endOfListToAdd and endOfListToAdd.getNextNode() and endOfListToAdd.getNextNode().getValue() >= n:\n",
    "                endOfListToAdd = endOfListToAdd.getNextNode()\n",
    "            if not rightPartitionStart:\n",
    "                rightPartitionStart = node\n",
    "            if rightPartitionEnd:\n",
    "                rightPartitionEnd.setNextNode(node)\n",
    "            rightPartitionEnd = endOfListToAdd\n",
    "        node = endOfListToAdd.getNextNode()\n",
    "    leftPartitionEnd.setNextNode(rightPartitionStart)\n",
    "    rightPartitionEnd.setNextNode(None)\n",
    "    partitionedLinkedList = LinkedList(leftPartitionStart)\n",
    "    return partitionedLinkedList"
   ]
  },
  {
   "cell_type": "code",
   "execution_count": 156,
   "metadata": {
    "collapsed": false
   },
   "outputs": [
    {
     "name": "stderr",
     "output_type": "stream",
     "text": [
      ".\n",
      "----------------------------------------------------------------------\n",
      "Ran 1 test in 0.003s\n",
      "\n",
      "OK\n"
     ]
    },
    {
     "data": {
      "text/plain": [
       "<unittest.runner.TextTestResult run=1 errors=0 failures=0>"
      ]
     },
     "execution_count": 156,
     "metadata": {},
     "output_type": "execute_result"
    }
   ],
   "source": [
    "import unittest\n",
    "class TestPartition(unittest.TestCase):\n",
    "    def setUp(self):\n",
    "        self.input = [[3,5,8,5,10,2,1],[1,6,5]]\n",
    "        self.partitions = [5,4]\n",
    "        self.linkedLists = []\n",
    "        for inp in self.input:\n",
    "            self.linkedLists.append(LinkedList(inp))\n",
    "        \n",
    "    def validPartition(self, listOfNumbers, part):\n",
    "        inRightPartition = False\n",
    "        for n in listOfNumbers:\n",
    "            if n >= part:\n",
    "                inRightPartition = True\n",
    "            elif inRightPartition:\n",
    "                return False\n",
    "        return True\n",
    "    def test_partition(self):\n",
    "        for linkedList, part in zip(self.linkedLists, self.partitions):\n",
    "            partitionedLinkedList = partition(linkedList, part)\n",
    "            listForm = partitionedLinkedList.getList()\n",
    "            self.assertTrue(self.validPartition(listForm, part))\n",
    "            \n",
    "testSuitePartition = unittest.TestLoader().loadTestsFromTestCase(TestPartition)\n",
    "runner = unittest.TextTestRunner()\n",
    "runner.run(testSuitePartition)"
   ]
  },
  {
   "cell_type": "code",
   "execution_count": 196,
   "metadata": {
    "collapsed": false
   },
   "outputs": [
    {
     "name": "stdout",
     "output_type": "stream",
     "text": [
      "[9, 1, 2]\n"
     ]
    }
   ],
   "source": [
    "# 2.5 Sum Lists: You have two numbers represented by a linked list, where each node contains a single digit. The digits are stored in reverse order, such that the 1's digit is at the head of the list. Write a function that adds the two numbers and returns the sum as a linked list.\n",
    "# Example\n",
    "# Input: (7->1->6) + (5->9->2). That is, 617 + 295.\n",
    "# Output: 2 -> 1 -> 9. That is, 912.\n",
    "# Follow up\n",
    "# Suppose the digits are stored in forward order. Repeat the above problem.\n",
    "# Example\n",
    "# Input: (6->1->7) + (2->9->5). That is, 617 + 295.\n",
    "# Output: 9->1->2. That is, 912.\n",
    "\n",
    "# traverse both lists adding each number and carry and adding sum % 10 to sum list\n",
    "# if sum is over 10, carry\n",
    "# time complexity: O(n)\n",
    "# space complexity: O(n)\n",
    "\n",
    "def sumLists(numList1, numList2):\n",
    "    node1 = numList1.head\n",
    "    node2 = numList2.head\n",
    "    carry = 0\n",
    "    sumNode = None\n",
    "    endOfSum = sumNode\n",
    "    while node1 or node2:\n",
    "        num1 = 0\n",
    "        num2 = 0\n",
    "        if node1:\n",
    "            num1 = node1.getValue()\n",
    "            node1 = node1.getNextNode()\n",
    "        if node2:\n",
    "            num2 = node2.getValue()\n",
    "            node2 = node2.getNextNode()\n",
    "        rawSum = num1 + num2 + carry\n",
    "        sumNumber = rawSum % 10\n",
    "        carry = rawSum // 10\n",
    "        if endOfSum:\n",
    "            endOfSum.setNextNode(LinkedListNode(sumNumber))\n",
    "            endOfSum = endOfSum.getNextNode()\n",
    "        elif not sumNode:\n",
    "            sumNode = LinkedListNode(sumNumber)\n",
    "            endOfSum = sumNode\n",
    "    if carry != 0:\n",
    "        endOfSum.setNextNode(LinkedListNode(carry))\n",
    "    sumList = LinkedList(sumNode)\n",
    "    return sumList\n",
    "\n",
    "# recurse to end of lists and add\n",
    "# the next summation will determine if there is a carry\n",
    "# pad list with zeros to equalize length\n",
    "\n",
    "def sumLists_reverse(numList1, numList2):\n",
    "    length1 = numList1.length()\n",
    "    length2 = numList2.length()\n",
    "    diff = abs(length1 - length2)\n",
    "    if length1 > length2:\n",
    "        for i in range(diff):\n",
    "            numList2.addNode(LinkedListNode(0))\n",
    "    elif length1 < length2:\n",
    "        for i in range(diff):\n",
    "            numList1.addNode(LinkedListNode(0))\n",
    "    sumList, carry = sumList_reverseHelper(numList1.head, numList2.head)\n",
    "    if carry != 0:\n",
    "        sumList.addNode(LinkedListNode(carry))\n",
    "    return sumList\n",
    "#returns sum linked list and carry\n",
    "def sumList_reverseHelper(node1, node2):\n",
    "    if not node1 or not node2:\n",
    "        return (None,0)\n",
    "    sumList, carry = sumList_reverseHelper(node1.getNextNode(), node2.getNextNode())\n",
    "    rawSum = node1.getValue() + node2.getValue() + carry\n",
    "    nodeSum = rawSum % 10\n",
    "    if sumList:\n",
    "        sumList.addNode(LinkedListNode(nodeSum))\n",
    "    else:\n",
    "        sumList = LinkedList(nodeSum)\n",
    "    carry = rawSum // 10\n",
    "    return (sumList, carry)\n",
    "\n",
    "def sumLists_reverse_iterative(numList1, numList2):\n",
    "    length1 = numList1.length()\n",
    "    length2 = numList2.length()\n",
    "    diff = abs(length1 - length2)\n",
    "    if length1 > length2:\n",
    "        for i in range(diff):\n",
    "            numList2.addNode(LinkedListNode(0))\n",
    "    elif length1 < length2:\n",
    "        for i in range(diff):\n",
    "            numList1.addNode(LinkedListNode(0))\n",
    "    # (node1 (param), node2 (param), )\n",
    "    callStack = []\n",
    "    activationFrame = {'node1': numList1.head, 'node2': numList2.head}\n",
    "    callStack.append(activationFrame)\n",
    "    phase = 0\n",
    "    sumList = None\n",
    "    carry = 0\n",
    "    while len(callStack) > 0:\n",
    "        activationFrame = callStack.pop()\n",
    "        node1 = activationFrame['node1']\n",
    "        node2 = activationFrame['node2']\n",
    "        if phase == 0:\n",
    "            if not node1 or not node2:\n",
    "                sumList = None\n",
    "                carry = 0\n",
    "                phase = 2\n",
    "            else:\n",
    "                #save locals\n",
    "                callStack.append(dict(activationFrame))\n",
    "                #call with new params\n",
    "                actvationFrame = dict()\n",
    "                activationFrame['node1'] = node1.getNextNode()\n",
    "                activationFrame['node2'] = node2.getNextNode()\n",
    "                callStack.append(activationFrame)\n",
    "                phase = 0\n",
    "        elif phase == 2:\n",
    "            rawSum = node1.getValue() + node2.getValue() + carry\n",
    "            nodeSum = rawSum % 10\n",
    "            if sumList:\n",
    "                sumList.addNode(LinkedListNode(nodeSum))\n",
    "            else:\n",
    "                sumList = LinkedList(nodeSum)\n",
    "            carry = rawSum // 10\n",
    "            phase = 2\n",
    "            \n",
    "    if carry != 0:\n",
    "        sumList.addNode(LinkedListNode(carry))\n",
    "    return sumList\n",
    "\n",
    "linkedList1 = LinkedList([6,1,7])\n",
    "linkedList2 = LinkedList([2,9,5])\n",
    "result = sumLists_reverse_iterative(linkedList1, linkedList2)\n",
    "result.print()"
   ]
  },
  {
   "cell_type": "code",
   "execution_count": 197,
   "metadata": {
    "collapsed": false
   },
   "outputs": [
    {
     "name": "stderr",
     "output_type": "stream",
     "text": [
      "...\n",
      "----------------------------------------------------------------------\n",
      "Ran 3 tests in 0.006s\n",
      "\n",
      "OK\n"
     ]
    },
    {
     "data": {
      "text/plain": [
       "<unittest.runner.TextTestResult run=3 errors=0 failures=0>"
      ]
     },
     "execution_count": 197,
     "metadata": {},
     "output_type": "execute_result"
    }
   ],
   "source": [
    "import unittest\n",
    "class TestSumLists(unittest.TestCase):\n",
    "    def setUp(self):\n",
    "        self.input = [([7,1,6],[5,9,2]), ([9,9,9],[0,1])]\n",
    "        self.expected = [[2,1,9],[9,0,0,1]]\n",
    "        self.linkedLists = []\n",
    "        self.reversedLinkedLists = []\n",
    "        for inp in self.input:\n",
    "            self.linkedLists.append((LinkedList(inp[0]), LinkedList(inp[1])))\n",
    "            self.reversedLinkedLists.append((LinkedList(list(reversed(inp[0]))), LinkedList(list(reversed(inp[1])))))\n",
    "        \n",
    "    def test_sumLists(self):\n",
    "        for lists, exp in zip(self.linkedLists, self.expected):\n",
    "            numList1, numList2 = lists\n",
    "            sumList = sumLists(numList1, numList2)\n",
    "            self.assertEqual(sumList.getList(), exp)\n",
    "    def test_sumLists_reverse(self):\n",
    "        for lists, exp in zip(self.reversedLinkedLists, self.expected):\n",
    "            numList1, numList2 = lists\n",
    "            sumList = sumLists_reverse(numList1, numList2)\n",
    "            self.assertEqual(sumList.getList(), list(reversed(exp)))\n",
    "    def test_sumLists_reverse_iterative(self):\n",
    "        for lists, exp in zip(self.reversedLinkedLists, self.expected):\n",
    "            numList1, numList2 = lists\n",
    "            sumList = sumLists_reverse_iterative(numList1, numList2)\n",
    "            self.assertEqual(sumList.getList(), list(reversed(exp)))\n",
    "            \n",
    "testSuiteSumLists = unittest.TestLoader().loadTestsFromTestCase(TestSumLists)\n",
    "runner = unittest.TextTestRunner()\n",
    "runner.run(testSuiteSumLists)"
   ]
  },
  {
   "cell_type": "code",
   "execution_count": 212,
   "metadata": {
    "collapsed": false
   },
   "outputs": [],
   "source": [
    "# 2.6 Palindrome: Implement a functionn to check if a linked list is a palindrome.\n",
    "\n",
    "# two pointers, one to run through list one by one, the other to run twice as fast\n",
    "# when fast pointer reaches the end, the slow one should be at the middle\n",
    "# record each element seen by slow pointer\n",
    "# compare in reverse with each element after reaching the middle\n",
    "# time complexity: O(n)\n",
    "# space complexity: O(n)\n",
    "\n",
    "def palindrome(linkedList):\n",
    "    slowPointer = linkedList.head\n",
    "    fastPointer = linkedList.head\n",
    "    seen = []\n",
    "    while fastPointer:\n",
    "        seen.append(slowPointer.getValue())\n",
    "        slowPointer = slowPointer.getNextNode()\n",
    "        fastPointer = fastPointer.getNextNode()\n",
    "        if fastPointer:\n",
    "            fastPointer = fastPointer.getNextNode()\n",
    "        else:\n",
    "            seen.pop()\n",
    "            \n",
    "    for i in range(len(seen) - 1, -1, -1):\n",
    "        value = slowPointer.getValue()\n",
    "        if value != seen[i]:\n",
    "            return False\n",
    "        slowPointer = slowPointer.getNextNode()\n",
    "    return True"
   ]
  },
  {
   "cell_type": "code",
   "execution_count": 213,
   "metadata": {
    "collapsed": false
   },
   "outputs": [
    {
     "name": "stderr",
     "output_type": "stream",
     "text": [
      ".\n",
      "----------------------------------------------------------------------\n",
      "Ran 1 test in 0.002s\n",
      "\n",
      "OK\n"
     ]
    },
    {
     "data": {
      "text/plain": [
       "<unittest.runner.TextTestResult run=1 errors=0 failures=0>"
      ]
     },
     "execution_count": 213,
     "metadata": {},
     "output_type": "execute_result"
    }
   ],
   "source": [
    "import unittest\n",
    "class TestPalindrome(unittest.TestCase):\n",
    "    def setUp(self):\n",
    "        self.palindromes = [[1,2,3,2,1],[1],[1,1,2,2,1,1]]\n",
    "        self.nonPalindromes = [[1,2,3,4,5,6],[1,2,1,2]]\n",
    "        self.palindromeLinkedLists = []\n",
    "        self.nonPalindromeLinkedLists = []\n",
    "        for pal in self.palindromes:\n",
    "            self.palindromeLinkedLists.append(LinkedList(pal))\n",
    "        for nonPal in self.nonPalindromes:\n",
    "            self.nonPalindromeLinkedLists.append(LinkedList(nonPal))\n",
    "        \n",
    "    def test_palindrome(self):\n",
    "        for linkedList in self.palindromeLinkedLists:\n",
    "            self.assertTrue(palindrome(linkedList))\n",
    "        for linkedList in self.nonPalindromeLinkedLists:\n",
    "            self.assertFalse(palindrome(linkedList))\n",
    "            \n",
    "testSuitePalindrome = unittest.TestLoader().loadTestsFromTestCase(TestPalindrome)\n",
    "runner = unittest.TextTestRunner()\n",
    "runner.run(testSuitePalindrome)"
   ]
  },
  {
   "cell_type": "code",
   "execution_count": 214,
   "metadata": {
    "collapsed": false
   },
   "outputs": [
    {
     "name": "stderr",
     "output_type": "stream",
     "text": [
      ".........\n",
      "----------------------------------------------------------------------\n",
      "Ran 9 tests in 0.021s\n",
      "\n",
      "OK\n"
     ]
    },
    {
     "data": {
      "text/plain": [
       "<unittest.runner.TextTestResult run=9 errors=0 failures=0>"
      ]
     },
     "execution_count": 214,
     "metadata": {},
     "output_type": "execute_result"
    }
   ],
   "source": [
    "# source: https://stackoverflow.com/questions/1732438/how-do-i-run-all-python-unit-tests-in-a-directory\n",
    "testmodules = [\n",
    "    TestRemoveDups,\n",
    "    TestKthToLast,\n",
    "    TestDeleteMiddleNode,\n",
    "    TestPartition,\n",
    "    TestSumLists,\n",
    "    TestPalindrome\n",
    "    ]\n",
    "\n",
    "suite = unittest.TestSuite()\n",
    "\n",
    "for t in testmodules:\n",
    "    suite.addTest(unittest.TestLoader().loadTestsFromTestCase(t))\n",
    "\n",
    "unittest.TextTestRunner().run(suite)"
   ]
  },
  {
   "cell_type": "code",
   "execution_count": null,
   "metadata": {
    "collapsed": true
   },
   "outputs": [],
   "source": []
  }
 ],
 "metadata": {
  "kernelspec": {
   "display_name": "Python 3",
   "language": "python",
   "name": "python3"
  },
  "language_info": {
   "codemirror_mode": {
    "name": "ipython",
    "version": 3
   },
   "file_extension": ".py",
   "mimetype": "text/x-python",
   "name": "python",
   "nbconvert_exporter": "python",
   "pygments_lexer": "ipython3",
   "version": "3.6.0"
  }
 },
 "nbformat": 4,
 "nbformat_minor": 2
}

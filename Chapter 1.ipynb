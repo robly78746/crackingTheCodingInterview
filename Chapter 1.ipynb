{
 "cells": [
  {
   "cell_type": "code",
   "execution_count": 22,
   "metadata": {
    "collapsed": false
   },
   "outputs": [],
   "source": [
    "# 1.1 Is Unique: Implement an algorithm to determine if a string has all unique characters. What if you cannot use additional data structures?\n",
    "\n",
    "# assuming there is a range of values for characters in the inputString\n",
    "# make a boolean array of possible inputs and initialize to False\n",
    "# use each character as an index and check the boolean array if the character has been encountered yet\n",
    "# if False, set to True\n",
    "# if True, return False\n",
    "# at end of loop, all characters are unique, so return True\n",
    "def isUnique(inputString):\n",
    "    seen = [False] * 256\n",
    "    for c in inputString:\n",
    "        index = ord(c)\n",
    "        if seen[index]:\n",
    "            return False\n",
    "        seen[index] = True\n",
    "    return True\n",
    "\n",
    "# with no additional data structures, we need to check each character with each other\n",
    "def isUnique_noDS(inputString):\n",
    "    for i in range(len(inputString)):\n",
    "        for j in range(i+1, len(inputString)):\n",
    "            if inputString[i] == inputString[j]:\n",
    "                return False\n",
    "    return True\n"
   ]
  },
  {
   "cell_type": "code",
   "execution_count": 34,
   "metadata": {
    "collapsed": false
   },
   "outputs": [
    {
     "name": "stderr",
     "output_type": "stream",
     "text": [
      ".."
     ]
    },
    {
     "name": "stdout",
     "output_type": "stream",
     "text": [
      "<unittest.suite.TestSuite tests=[None, None]>\n"
     ]
    },
    {
     "name": "stderr",
     "output_type": "stream",
     "text": [
      "\n",
      "----------------------------------------------------------------------\n",
      "Ran 2 tests in 0.004s\n",
      "\n",
      "OK\n"
     ]
    }
   ],
   "source": [
    "import unittest\n",
    "class TestIsUnique(unittest.TestCase):\n",
    "    uniqueStrings = ['abcdefghijk', '', 'asdf']\n",
    "    notUniqueStrings = ['aaaaaaa', 'asdfdd', 'ss']\n",
    "    \n",
    "    def test_isUnique(self):\n",
    "        for inputString in self.uniqueStrings:\n",
    "            self.assertTrue(isUnique(inputString))\n",
    "        for inputString in self.notUniqueStrings:\n",
    "            self.assertFalse(isUnique(inputString))\n",
    "    def test_isUnique_noDS(self):\n",
    "        for inputString in self.uniqueStrings:\n",
    "            self.assertTrue(isUnique_noDS(inputString))\n",
    "        for inputString in self.notUniqueStrings:\n",
    "            self.assertFalse(isUnique_noDS(inputString))\n",
    "            \n",
    "testSuiteIsUnique = unittest.TestLoader().loadTestsFromTestCase(TestIsUnique)\n",
    "runner = unittest.TextTestRunner()\n",
    "runner.run(testSuiteIsUnique)"
   ]
  },
  {
   "cell_type": "code",
   "execution_count": 43,
   "metadata": {
    "collapsed": true
   },
   "outputs": [],
   "source": [
    "# 1.2 Check Permutation: Given two strings, write a method to decide if one is a permutation of the other\n",
    "\n",
    "# check if they are the same length; if not return False\n",
    "# compare character frequencies\n",
    "def checkPermutation(string1, string2):\n",
    "        if len(string1) != len(string2):\n",
    "            return False\n",
    "        frequencies = [0]*256\n",
    "        for s1 in string1:\n",
    "            index = ord(s1)\n",
    "            frequencies[index] += 1\n",
    "        for s2 in string2:\n",
    "            index = ord(s2)\n",
    "            frequencies[index] -= 1\n",
    "            if frequencies[index] < 0:\n",
    "                return False\n",
    "        return True"
   ]
  },
  {
   "cell_type": "code",
   "execution_count": 44,
   "metadata": {
    "collapsed": false
   },
   "outputs": [
    {
     "name": "stderr",
     "output_type": "stream",
     "text": [
      ".\n",
      "----------------------------------------------------------------------\n",
      "Ran 1 test in 0.002s\n",
      "\n",
      "OK\n"
     ]
    },
    {
     "data": {
      "text/plain": [
       "<unittest.runner.TextTestResult run=1 errors=0 failures=0>"
      ]
     },
     "execution_count": 44,
     "metadata": {},
     "output_type": "execute_result"
    }
   ],
   "source": [
    "import unittest\n",
    "class TestCheckPermutation(unittest.TestCase):\n",
    "    def setUp(self):\n",
    "        self.permutations = [('hi', 'ih'), ('racecar', 'racerac'), ('','')]\n",
    "        self.nonPermutations = [('hii', ''), ('racecar', 'racecar1'), (' ','')]\n",
    "            \n",
    "    def test_checkPermutation(self):\n",
    "        for pair in self.permutations:\n",
    "            self.assertTrue(checkPermutation(pair[0], pair[1]))\n",
    "        for pair in self.nonPermutations:\n",
    "            self.assertFalse(checkPermutation(pair[0], pair[1]))\n",
    "            \n",
    "testSuiteCheckPermutation = unittest.TestLoader().loadTestsFromTestCase(TestCheckPermutation)\n",
    "runner = unittest.TextTestRunner()\n",
    "runner.run(testSuiteCheckPermutation)"
   ]
  },
  {
   "cell_type": "code",
   "execution_count": null,
   "metadata": {
    "collapsed": true
   },
   "outputs": [],
   "source": [
    "# 1.3 URLify: Write a method to replace all spaces in a string with '%20'. You may assume that the string has sufficient space at the end to hold the additional characters, and that you are given the \"true\" length of the string.\n",
    "\n",
    "#count spaces scanning string starting from given length\n",
    "#start at length + 3 * #spaces and copy letters from string \n",
    "#if a string is encounted in original index, insert %20 at new index\n",
    "def urlify(inputString, length):\n",
    "    \n",
    "    for i in range(length - 1, -1, -1):\n",
    "        if inputString[i] == ' ':\n",
    "            inputString[i] = '0'\n",
    "            inputString[i]"
   ]
  },
  {
   "cell_type": "code",
   "execution_count": 42,
   "metadata": {
    "collapsed": false
   },
   "outputs": [
    {
     "name": "stderr",
     "output_type": "stream",
     "text": [
      "...\n",
      "----------------------------------------------------------------------\n",
      "Ran 3 tests in 0.007s\n",
      "\n",
      "OK\n"
     ]
    },
    {
     "data": {
      "text/plain": [
       "<unittest.runner.TextTestResult run=3 errors=0 failures=0>"
      ]
     },
     "execution_count": 42,
     "metadata": {},
     "output_type": "execute_result"
    }
   ],
   "source": [
    "# source: https://stackoverflow.com/questions/1732438/how-do-i-run-all-python-unit-tests-in-a-directory\n",
    "testmodules = [\n",
    "    TestIsUnique,\n",
    "    TestCheckPermutation\n",
    "    ]\n",
    "\n",
    "suite = unittest.TestSuite()\n",
    "\n",
    "for t in testmodules:\n",
    "    suite.addTest(unittest.TestLoader().loadTestsFromTestCase(t))\n",
    "\n",
    "unittest.TextTestRunner().run(suite)"
   ]
  },
  {
   "cell_type": "code",
   "execution_count": null,
   "metadata": {
    "collapsed": true
   },
   "outputs": [],
   "source": []
  }
 ],
 "metadata": {
  "kernelspec": {
   "display_name": "Python 3",
   "language": "python",
   "name": "python3"
  },
  "language_info": {
   "codemirror_mode": {
    "name": "ipython",
    "version": 3
   },
   "file_extension": ".py",
   "mimetype": "text/x-python",
   "name": "python",
   "nbconvert_exporter": "python",
   "pygments_lexer": "ipython3",
   "version": "3.6.0"
  }
 },
 "nbformat": 4,
 "nbformat_minor": 2
}

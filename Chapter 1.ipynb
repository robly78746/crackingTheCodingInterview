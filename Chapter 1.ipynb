{
 "cells": [
  {
   "cell_type": "code",
   "execution_count": 10,
   "metadata": {
    "collapsed": false
   },
   "outputs": [],
   "source": [
    "# 1.1 Is Unique: Implement an algorithm to determine if a string has all unique characters. What if you cannot use additional data structures?\n",
    "\n",
    "# assuming there is a range of values for characters in the inputString\n",
    "# make a boolean array of possible inputs and initialize to False\n",
    "# use each character as an index and check the boolean array if the character has been encountered yet\n",
    "# if False, set to True\n",
    "# if True, return False\n",
    "# at end of loop, all characters are unique, so return True\n",
    "# time complexity: O(n)\n",
    "# space complexity: O(1)\n",
    "def isUnique(inputString):\n",
    "    seen = [False] * 256\n",
    "    for c in inputString:\n",
    "        index = ord(c)\n",
    "        if seen[index]:\n",
    "            return False\n",
    "        seen[index] = True\n",
    "    return True\n",
    "\n",
    "# with no additional data structures, we need to check each character with each other\n",
    "# time complexity: O(n^2)\n",
    "# space complexity: O(1)\n",
    "def isUnique_noDS(inputString):\n",
    "    for i in range(len(inputString)):\n",
    "        for j in range(i+1, len(inputString)):\n",
    "            if inputString[i] == inputString[j]:\n",
    "                return False\n",
    "    return True\n"
   ]
  },
  {
   "cell_type": "code",
   "execution_count": 11,
   "metadata": {
    "collapsed": false
   },
   "outputs": [
    {
     "name": "stderr",
     "output_type": "stream",
     "text": [
      "..\n",
      "----------------------------------------------------------------------\n",
      "Ran 2 tests in 0.004s\n",
      "\n",
      "OK\n"
     ]
    },
    {
     "data": {
      "text/plain": [
       "<unittest.runner.TextTestResult run=2 errors=0 failures=0>"
      ]
     },
     "execution_count": 11,
     "metadata": {},
     "output_type": "execute_result"
    }
   ],
   "source": [
    "import unittest\n",
    "class TestIsUnique(unittest.TestCase):\n",
    "    def setUp(self):\n",
    "        self.uniqueStrings = ['abcdefghijk', '', 'asdf']\n",
    "        self.notUniqueStrings = ['aaaaaaa', 'asdfdd', 'ss']\n",
    "    \n",
    "    def test_isUnique(self):\n",
    "        for inputString in self.uniqueStrings:\n",
    "            self.assertTrue(isUnique(inputString))\n",
    "        for inputString in self.notUniqueStrings:\n",
    "            self.assertFalse(isUnique(inputString))\n",
    "    def test_isUnique_noDS(self):\n",
    "        for inputString in self.uniqueStrings:\n",
    "            self.assertTrue(isUnique_noDS(inputString))\n",
    "        for inputString in self.notUniqueStrings:\n",
    "            self.assertFalse(isUnique_noDS(inputString))\n",
    "            \n",
    "testSuiteIsUnique = unittest.TestLoader().loadTestsFromTestCase(TestIsUnique)\n",
    "runner = unittest.TextTestRunner()\n",
    "runner.run(testSuiteIsUnique)"
   ]
  },
  {
   "cell_type": "code",
   "execution_count": 12,
   "metadata": {
    "collapsed": true
   },
   "outputs": [],
   "source": [
    "# 1.2 Check Permutation: Given two strings, write a method to decide if one is a permutation of the other\n",
    "\n",
    "# check if they are the same length; if not return False\n",
    "# compare character frequencies\n",
    "# time complexity: O(n)\n",
    "# space complexity: O(1)\n",
    "def checkPermutation(string1, string2):\n",
    "        if len(string1) != len(string2):\n",
    "            return False\n",
    "        frequencies = [0]*256\n",
    "        for s1 in string1:\n",
    "            index = ord(s1)\n",
    "            frequencies[index] += 1\n",
    "        for s2 in string2:\n",
    "            index = ord(s2)\n",
    "            frequencies[index] -= 1\n",
    "            if frequencies[index] < 0:\n",
    "                return False\n",
    "        return True"
   ]
  },
  {
   "cell_type": "code",
   "execution_count": 13,
   "metadata": {
    "collapsed": false
   },
   "outputs": [
    {
     "name": "stderr",
     "output_type": "stream",
     "text": [
      ".\n",
      "----------------------------------------------------------------------\n",
      "Ran 1 test in 0.003s\n",
      "\n",
      "OK\n"
     ]
    },
    {
     "data": {
      "text/plain": [
       "<unittest.runner.TextTestResult run=1 errors=0 failures=0>"
      ]
     },
     "execution_count": 13,
     "metadata": {},
     "output_type": "execute_result"
    }
   ],
   "source": [
    "import unittest\n",
    "class TestCheckPermutation(unittest.TestCase):\n",
    "    def setUp(self):\n",
    "        self.permutations = [('hi', 'ih'), ('racecar', 'racerac'), ('','')]\n",
    "        self.nonPermutations = [('hii', ''), ('racecar', 'racecar1'), (' ','')]\n",
    "            \n",
    "    def test_checkPermutation(self):\n",
    "        for pair in self.permutations:\n",
    "            self.assertTrue(checkPermutation(pair[0], pair[1]))\n",
    "        for pair in self.nonPermutations:\n",
    "            self.assertFalse(checkPermutation(pair[0], pair[1]))\n",
    "            \n",
    "testSuiteCheckPermutation = unittest.TestLoader().loadTestsFromTestCase(TestCheckPermutation)\n",
    "runner = unittest.TextTestRunner()\n",
    "runner.run(testSuiteCheckPermutation)"
   ]
  },
  {
   "cell_type": "code",
   "execution_count": 14,
   "metadata": {
    "collapsed": false
   },
   "outputs": [
    {
     "data": {
      "text/plain": [
       "'Mr%20John%20Smith'"
      ]
     },
     "execution_count": 14,
     "metadata": {},
     "output_type": "execute_result"
    }
   ],
   "source": [
    "# 1.3 URLify: Write a method to replace all spaces in a string with '%20'. You may assume that the string has sufficient space at the end to hold the additional characters, and that you are given the \"true\" length of the string.\n",
    "\n",
    "# count spaces scanning string starting from given length\n",
    "# start at length + 3 * #spaces and copy letters from string \n",
    "# if a string is encountered in original index, insert %20 at new index\n",
    "# time complexity: O(n)\n",
    "# space complexity: O(n)\n",
    "def urlify(inputString, length):\n",
    "    spaceCount = 0\n",
    "    inputList = list(inputString)\n",
    "    for i in range(length - 1, -1, -1):\n",
    "        if inputString[i] == ' ':\n",
    "            spaceCount += 1\n",
    "    \n",
    "    oldIndex = length - 1\n",
    "    newIndex = oldIndex + 2 * spaceCount\n",
    "    while spaceCount > 0:\n",
    "        if inputList[oldIndex] == ' ':\n",
    "            inputList[newIndex - 2: newIndex+1] = '%20'\n",
    "            newIndex -= 2\n",
    "            spaceCount -= 1\n",
    "        else:\n",
    "            inputList[newIndex] = inputList[oldIndex]\n",
    "        newIndex -= 1\n",
    "        oldIndex -= 1\n",
    "    result = ''.join(inputList)\n",
    "    return result\n",
    "urlify(\"Mr John Smith    \", 13)"
   ]
  },
  {
   "cell_type": "code",
   "execution_count": 15,
   "metadata": {
    "collapsed": false
   },
   "outputs": [
    {
     "name": "stderr",
     "output_type": "stream",
     "text": [
      ".\n",
      "----------------------------------------------------------------------\n",
      "Ran 1 test in 0.003s\n",
      "\n",
      "OK\n"
     ]
    },
    {
     "data": {
      "text/plain": [
       "<unittest.runner.TextTestResult run=1 errors=0 failures=0>"
      ]
     },
     "execution_count": 15,
     "metadata": {},
     "output_type": "execute_result"
    }
   ],
   "source": [
    "import unittest\n",
    "class TestUrlify(unittest.TestCase):\n",
    "    def setUp(self):\n",
    "        self.input = [(\"Mr John Smith    \", 13), (\"      \", 2)]\n",
    "        self.expected = ['Mr%20John%20Smith', '%20%20']\n",
    "            \n",
    "    def test_urlify(self):\n",
    "        for inp, exp in zip(self.input, self.expected):\n",
    "            self.assertEqual(urlify(inp[0], inp[1]), exp)\n",
    "            \n",
    "testSuiteUrlify = unittest.TestLoader().loadTestsFromTestCase(TestUrlify)\n",
    "runner = unittest.TextTestRunner()\n",
    "runner.run(testSuiteUrlify)"
   ]
  },
  {
   "cell_type": "code",
   "execution_count": 16,
   "metadata": {
    "collapsed": true
   },
   "outputs": [],
   "source": [
    "# 1.4 Palindrome Permutation: Given a string, write a function to check if it is a permutation of a palindrome. A palindrome is a word or phrase that is the same forwards and backwards. A permutation is a rearrangement of letters. The palindrome does not need to be limited to just dictionary words.\n",
    "# Example\n",
    "# Input: Tact Coa\n",
    "# Output: True (permutations: \"taco cat\", \"atco cta\", etc.)\n",
    "\n",
    "# palindromes have pairs of characters except for maybe one\n",
    "# count characters \n",
    "# check if more than one character's frequencies are even\n",
    "# time complexity: O(n)\n",
    "# space complexity: O(1)\n",
    "def palindromePermutation(inputString):\n",
    "    frequencies = [0] * 256\n",
    "    inputString = inputString.lower().replace(' ', '')\n",
    "    for c in inputString:\n",
    "        index = ord(c)\n",
    "        frequencies[index] += 1\n",
    "    oddFrequencySeen = False\n",
    "    for f in frequencies:\n",
    "        if f % 2 == 1:\n",
    "            if oddFrequencySeen:\n",
    "                return False\n",
    "            else:\n",
    "                oddFrequencySeen = True\n",
    "    return True"
   ]
  },
  {
   "cell_type": "code",
   "execution_count": 17,
   "metadata": {
    "collapsed": false
   },
   "outputs": [
    {
     "name": "stderr",
     "output_type": "stream",
     "text": [
      ".\n",
      "----------------------------------------------------------------------\n",
      "Ran 1 test in 0.002s\n",
      "\n",
      "OK\n"
     ]
    },
    {
     "data": {
      "text/plain": [
       "<unittest.runner.TextTestResult run=1 errors=0 failures=0>"
      ]
     },
     "execution_count": 17,
     "metadata": {},
     "output_type": "execute_result"
    }
   ],
   "source": [
    "import unittest\n",
    "class TestPalindromePermutation(unittest.TestCase):\n",
    "    def setUp(self):\n",
    "        self.palindromePermutations = ['taco cat', 'atco cta', 'ssaalliii']\n",
    "        self.invalids = ['tacco  cat', 'aasls s']\n",
    "            \n",
    "    def test_palindromePermutation(self):\n",
    "        for palindromePermut in self.palindromePermutations:\n",
    "            self.assertTrue(palindromePermutation(palindromePermut))\n",
    "        for invalid in self.invalids:\n",
    "            self.assertFalse(palindromePermutation(invalid))\n",
    "            \n",
    "testSuitePalindromePermutation = unittest.TestLoader().loadTestsFromTestCase(TestPalindromePermutation)\n",
    "runner = unittest.TextTestRunner()\n",
    "runner.run(testSuitePalindromePermutation)"
   ]
  },
  {
   "cell_type": "code",
   "execution_count": 18,
   "metadata": {
    "collapsed": false
   },
   "outputs": [],
   "source": [
    "# 1.5 One Away: There are three types of edits that can be performed on strings: insert a character, remove a character, or replace a character. Given two strings, write a function to check if they are one edit (or zero edits) away.\n",
    "#example\n",
    "#pale, ple -> true\n",
    "#pales, pale -> true\n",
    "#pale, bale -> true\n",
    "#pale, bake -> false\n",
    "\n",
    "#compare length first to see if they differ by more than one\n",
    "#go through both strings same time and compare\n",
    "#if different letters, advance the longer index if different length\n",
    "#if same length, advance both\n",
    "#record first difference\n",
    "#upon second difference, return false\n",
    "# time complexity: O(n)\n",
    "# space complexity: O(1)\n",
    "def oneAway(string1, string2):\n",
    "    length1 = len(string1)\n",
    "    length2 = len(string2)\n",
    "    \n",
    "    if abs(length1 - length2) > 1:\n",
    "        return False\n",
    "    \n",
    "    smallerString, largerString = smallStringBigString(string1, string2)\n",
    "    indexSmall = 0\n",
    "    indexLarge = 0\n",
    "    oneMistakeSeen = False\n",
    "    while indexSmall < len(smallerString):\n",
    "        if largerString[indexLarge] != smallerString[indexSmall]:\n",
    "            if oneMistakeSeen:\n",
    "                return False\n",
    "            if length1 - length2 == 0:\n",
    "                indexSmall += 1\n",
    "            oneMistakeSeen = True\n",
    "        else:\n",
    "            indexSmall += 1\n",
    "        indexLarge += 1\n",
    "    return True\n",
    "\n",
    "def smallStringBigString(string1, string2):\n",
    "    if len(string1) < len(string2):\n",
    "        return (string1, string2)\n",
    "    else:\n",
    "        return (string2, string1)"
   ]
  },
  {
   "cell_type": "code",
   "execution_count": 19,
   "metadata": {
    "collapsed": false
   },
   "outputs": [
    {
     "name": "stderr",
     "output_type": "stream",
     "text": [
      ".\n",
      "----------------------------------------------------------------------\n",
      "Ran 1 test in 0.002s\n",
      "\n",
      "OK\n"
     ]
    },
    {
     "data": {
      "text/plain": [
       "<unittest.runner.TextTestResult run=1 errors=0 failures=0>"
      ]
     },
     "execution_count": 19,
     "metadata": {},
     "output_type": "execute_result"
    }
   ],
   "source": [
    "import unittest\n",
    "class TestOneAway(unittest.TestCase):\n",
    "    def setUp(self):\n",
    "        self.input = [('pale', 'ple'), ('pales','pale'), ('pale', 'bale'), ('pale', 'bake'), ('ooo'), ('      ')]\n",
    "        self.expected = [True, True, True, False]\n",
    "            \n",
    "    def test_oneAway(self):\n",
    "        for inp, exp in zip(self.input, self.expected):\n",
    "            self.assertEqual(oneAway(inp[0], inp[1]), exp)\n",
    "            \n",
    "testSuiteOneAway = unittest.TestLoader().loadTestsFromTestCase(TestOneAway)\n",
    "runner = unittest.TextTestRunner()\n",
    "runner.run(testSuiteOneAway)"
   ]
  },
  {
   "cell_type": "code",
   "execution_count": 20,
   "metadata": {
    "collapsed": false
   },
   "outputs": [
    {
     "name": "stdout",
     "output_type": "stream",
     "text": [
      "a2b1c5a3\n"
     ]
    }
   ],
   "source": [
    "# 1.6 String Compression: Implement a method to perform basic string compression using the counts of repeated characters. For example, the string aabcccccaaa would become a2b1c5a3. If the \"compressed\" string would not become smaller than the original string, your method should return the original string. You can assume the string has only uppercase and lowercase letters (a-z).\n",
    "# example:\n",
    "# input: aabcccccaaa \n",
    "# output: a2b1c5a3\n",
    "\n",
    "# for each new character in the input string, add character to result\n",
    "# start a loop to count all repeated characters and add count to result\n",
    "# at the end compare lengths of the result string and the input string, return shorter string\n",
    "# time complexity: O(n)\n",
    "# space complexity: O(n)\n",
    "def stringCompression(inputString):\n",
    "    index = 0\n",
    "    result = ''\n",
    "    while index < len(inputString):\n",
    "        char = inputString[index]\n",
    "        result += char\n",
    "        occurrences = 1\n",
    "        while index + 1 < len(inputString) and inputString[index + 1] == char:\n",
    "            index += 1\n",
    "            occurrences += 1\n",
    "\n",
    "        result += str(occurrences)\n",
    "        index += 1\n",
    "    if len(result) < len(inputString):\n",
    "        return result\n",
    "    else:\n",
    "        return inputString\n",
    "        \n",
    "inputString = 'aabcccccaaa'\n",
    "res = stringCompression(inputString)\n",
    "print(res)"
   ]
  },
  {
   "cell_type": "code",
   "execution_count": 21,
   "metadata": {
    "collapsed": false
   },
   "outputs": [
    {
     "name": "stderr",
     "output_type": "stream",
     "text": [
      ".\n",
      "----------------------------------------------------------------------\n",
      "Ran 1 test in 0.002s\n",
      "\n",
      "OK\n"
     ]
    },
    {
     "data": {
      "text/plain": [
       "<unittest.runner.TextTestResult run=1 errors=0 failures=0>"
      ]
     },
     "execution_count": 21,
     "metadata": {},
     "output_type": "execute_result"
    }
   ],
   "source": [
    "import unittest\n",
    "class TestStringCompression(unittest.TestCase):\n",
    "    def setUp(self):\n",
    "        self.input = ['aabcccccaaa', 'abcde', '']\n",
    "        self.expected = ['a2b1c5a3', 'abcde', '']\n",
    "            \n",
    "    def test_stringCompression(self):\n",
    "        for inp, exp in zip(self.input, self.expected):\n",
    "            self.assertEqual(stringCompression(inp), exp)\n",
    "            \n",
    "testSuiteStringCompression = unittest.TestLoader().loadTestsFromTestCase(TestStringCompression)\n",
    "runner = unittest.TextTestRunner()\n",
    "runner.run(testSuiteStringCompression)"
   ]
  },
  {
   "cell_type": "code",
   "execution_count": 22,
   "metadata": {
    "collapsed": false
   },
   "outputs": [],
   "source": [
    "# 1.7 Rotate Matrix: Given an image represented by an NxN matrix, where each pixel in the image is 4 bytes, write a method to rotate the image by 90 degrees Can you do this in place?\n",
    "\n",
    "# loop through half of the rows, checking two less elements each time\n",
    "# for each element rotate each element on four sides\n",
    "# in a 3x3\n",
    "# (0,0) => (0,2) (0,2) => (2,2) (2,2) => (2,0) (2,0) => (0,0)\n",
    "# (0,1) => (1,2) (1,2) => (2,1) (2,1) => (1,0) (1,0) => (0,1)\n",
    "# (r,c) => (c,rowSize - 1 - r) (r,c) => (c,rowSize - 1 r)\n",
    "# time complexity: O(n)\n",
    "# space complexity: O(1)\n",
    "def rotateMatrix(matrix):\n",
    "    rowSize = len(matrix[0])\n",
    "    colSize = len(matrix)\n",
    "    beg = 0\n",
    "    end = rowSize - 1\n",
    "    row = 0\n",
    "    while end >= beg:\n",
    "        for col in range(beg, end):\n",
    "            tempRow = row\n",
    "            tempCol = col\n",
    "            currentElement = matrix[tempRow][tempCol]\n",
    "            for i in range(4):\n",
    "                oldRow = tempRow\n",
    "                tempRow = tempCol\n",
    "                tempCol = rowSize - 1 - oldRow\n",
    "                nextElement = matrix[tempRow][tempCol]\n",
    "                matrix[tempRow][tempCol] = currentElement\n",
    "                currentElement = nextElement\n",
    "            \n",
    "        beg += 1\n",
    "        end -= 1\n",
    "        row += 1\n",
    "    return matrix"
   ]
  },
  {
   "cell_type": "code",
   "execution_count": 25,
   "metadata": {
    "collapsed": false
   },
   "outputs": [
    {
     "name": "stderr",
     "output_type": "stream",
     "text": [
      ".\n",
      "----------------------------------------------------------------------\n",
      "Ran 1 test in 0.003s\n",
      "\n",
      "OK\n"
     ]
    },
    {
     "data": {
      "text/plain": [
       "<unittest.runner.TextTestResult run=1 errors=0 failures=0>"
      ]
     },
     "execution_count": 25,
     "metadata": {},
     "output_type": "execute_result"
    }
   ],
   "source": [
    "import unittest\n",
    "class TestRotateMatrix(unittest.TestCase):\n",
    "    def setUp(self):\n",
    "        self.input = [\n",
    "                       [[1,2,3],\n",
    "                       [4,5,6],\n",
    "                       [7,8,9]],\n",
    "            \n",
    "                      [[1,2,3,4],\n",
    "                      [5,6,7,8],\n",
    "                      [9,10,11,12],\n",
    "                      [13,14,15,16]],\n",
    "                        \n",
    "                        [[5]]\n",
    "                    ]\n",
    "        self.expected = [ \n",
    "                            [[7,4,1],\n",
    "                            [8,5,2],\n",
    "                            [9,6,3]],\n",
    "\n",
    "                            [[13,9,5,1],\n",
    "                            [14,10,6,2],\n",
    "                            [15,11,7,3],\n",
    "                            [16,12,8,4]],\n",
    "                            \n",
    "                            [[5]]\n",
    "                        ]\n",
    "            \n",
    "    def test_rotateMatrix(self):\n",
    "        for inp, exp in zip(self.input, self.expected):\n",
    "            self.assertEqual(rotateMatrix(inp), exp)\n",
    "            \n",
    "testSuiteRotateMatrix = unittest.TestLoader().loadTestsFromTestCase(TestRotateMatrix)\n",
    "runner = unittest.TextTestRunner()\n",
    "runner.run(testSuiteRotateMatrix)"
   ]
  },
  {
   "cell_type": "code",
   "execution_count": null,
   "metadata": {
    "collapsed": true
   },
   "outputs": [],
   "source": [
    "# 1.8 Zero Matrix: Write an algorithm such that if an element in an MxN matrix is 0, its entire row and column are set to 0.\n",
    "\n"
   ]
  },
  {
   "cell_type": "code",
   "execution_count": 26,
   "metadata": {
    "collapsed": false
   },
   "outputs": [
    {
     "name": "stderr",
     "output_type": "stream",
     "text": [
      "........\n",
      "----------------------------------------------------------------------\n",
      "Ran 8 tests in 0.017s\n",
      "\n",
      "OK\n"
     ]
    },
    {
     "data": {
      "text/plain": [
       "<unittest.runner.TextTestResult run=8 errors=0 failures=0>"
      ]
     },
     "execution_count": 26,
     "metadata": {},
     "output_type": "execute_result"
    }
   ],
   "source": [
    "# source: https://stackoverflow.com/questions/1732438/how-do-i-run-all-python-unit-tests-in-a-directory\n",
    "testmodules = [\n",
    "    TestIsUnique,\n",
    "    TestCheckPermutation,\n",
    "    TestUrlify,\n",
    "    TestPalindromePermutation,\n",
    "    TestOneAway,\n",
    "    TestStringCompression,\n",
    "    TestRotateMatrix\n",
    "    ]\n",
    "\n",
    "suite = unittest.TestSuite()\n",
    "\n",
    "for t in testmodules:\n",
    "    suite.addTest(unittest.TestLoader().loadTestsFromTestCase(t))\n",
    "\n",
    "unittest.TextTestRunner().run(suite)"
   ]
  },
  {
   "cell_type": "code",
   "execution_count": null,
   "metadata": {
    "collapsed": true
   },
   "outputs": [],
   "source": []
  }
 ],
 "metadata": {
  "kernelspec": {
   "display_name": "Python 3",
   "language": "python",
   "name": "python3"
  },
  "language_info": {
   "codemirror_mode": {
    "name": "ipython",
    "version": 3
   },
   "file_extension": ".py",
   "mimetype": "text/x-python",
   "name": "python",
   "nbconvert_exporter": "python",
   "pygments_lexer": "ipython3",
   "version": "3.6.0"
  }
 },
 "nbformat": 4,
 "nbformat_minor": 2
}

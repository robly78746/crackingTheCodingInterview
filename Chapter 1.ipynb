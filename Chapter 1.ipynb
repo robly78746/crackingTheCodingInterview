{
 "cells": [
  {
   "cell_type": "code",
   "execution_count": 15,
   "metadata": {
    "collapsed": false
   },
   "outputs": [],
   "source": [
    "# 1.1 Is Unique: Implement an algorithm to determine if a string has all unique characters. What if you cannot use additional data structures?\n",
    "\n",
    "# check if character is in a temp set\n",
    "# if it is, return False because the character has been seen before\n",
    "# else add character to a set\n",
    "# return True after loop because each character is unique\n",
    "def isUnique(inputString):\n",
    "    seen = [False] * 256\n",
    "    for c in inputString:\n",
    "        index = ord(c)\n",
    "        if seen[index]:\n",
    "            return False\n",
    "        seen[index] = True\n",
    "    return True\n",
    "\n",
    "def isUnique_noDS(inputString):\n",
    "    for i in range(len(inputString)):\n",
    "        for j in range(i+1, len(inputString)):\n",
    "            if inputString[i] == inputString[j]:\n",
    "                return False\n",
    "    return True\n"
   ]
  },
  {
   "cell_type": "code",
   "execution_count": 16,
   "metadata": {
    "collapsed": false
   },
   "outputs": [
    {
     "name": "stderr",
     "output_type": "stream",
     "text": [
      "..\n",
      "----------------------------------------------------------------------\n",
      "Ran 2 tests in 0.005s\n",
      "\n",
      "OK\n"
     ]
    }
   ],
   "source": [
    "import unittest\n",
    "class TestChapterOneQuestions(unittest.TestCase):\n",
    "    inputs = ['aaaaaa','abcdefghi', '']\n",
    "    expectedOutputs = [False, True, True]\n",
    "    \n",
    "    def test_isUnique(self):\n",
    "        for inputString, expected in zip(self.inputs, self.expectedOutputs):\n",
    "            self.assertEqual(isUnique(inputString), expected)\n",
    "    def test_isUnique_noDS(self):\n",
    "        for inputString, expected in zip(self.inputs, self.expectedOutputs):\n",
    "            self.assertEqual(isUnique_noDS(inputString), expected)\n",
    "\n",
    "if __name__ == '__main__':\n",
    "    unittest.main(argv=['first-arg-is-ignored'], exit=False)"
   ]
  },
  {
   "cell_type": "code",
   "execution_count": null,
   "metadata": {
    "collapsed": true
   },
   "outputs": [],
   "source": []
  }
 ],
 "metadata": {
  "kernelspec": {
   "display_name": "Python 3",
   "language": "python",
   "name": "python3"
  },
  "language_info": {
   "codemirror_mode": {
    "name": "ipython",
    "version": 3
   },
   "file_extension": ".py",
   "mimetype": "text/x-python",
   "name": "python",
   "nbconvert_exporter": "python",
   "pygments_lexer": "ipython3",
   "version": "3.6.0"
  }
 },
 "nbformat": 4,
 "nbformat_minor": 2
}
